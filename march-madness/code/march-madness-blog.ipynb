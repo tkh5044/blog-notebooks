{
 "cells": [
  {
   "cell_type": "code",
   "execution_count": 1,
   "metadata": {
    "collapsed": false
   },
   "outputs": [],
   "source": [
    "import pandas as pd\n",
    "from bs4 import BeautifulSoup\n",
    "import requests"
   ]
  },
  {
   "cell_type": "code",
   "execution_count": 2,
   "metadata": {
    "collapsed": false
   },
   "outputs": [],
   "source": [
    "# create empty dataframes\n",
    "\n",
    "stats = pd.DataFrame(columns=['stat', 'unc', 'opponent'])\n",
    "shots = pd.DataFrame(columns=['stat', 'unc_made', 'unc_att', 'opp_made', 'opp_att'])"
   ]
  },
  {
   "cell_type": "code",
   "execution_count": 3,
   "metadata": {
    "collapsed": true
   },
   "outputs": [],
   "source": [
    "# creating a function that takes in a url for the team stats of some game\n",
    "# appends all the info, category name and team stats, to the dataframes\n",
    "\n",
    "def get_data(url):\n",
    "    html = requests.get(url)\n",
    "    soup = BeautifulSoup(html.text, 'html.parser')\n",
    "    table = soup.find('table', {'class':'mod-data'}).find_all('tr', {'class':'highlight'})\n",
    "    for indent in soup.find('table', {'class':'mod-data'}).find_all('tr', {'class':'indent'}):\n",
    "        table.append(indent)\n",
    "    for stat in table:\n",
    "        clean = stat.text.replace(\"\\n\", \" \").replace(\"\\t\", \"\").split()\n",
    "        cat = clean[len(clean)-3::-1][::-1]\n",
    "        cat = \" \".join(cat)\n",
    "        nums = clean[len(clean)-1:len(clean)-3:-1]        \n",
    "        unc = nums[0].split('-')\n",
    "        opp = nums[1].split('-')\n",
    "        if len(unc) == 2:\n",
    "            shots.loc[len(shots)] = [cat, unc[0], unc[1], opp[0], opp[1]]\n",
    "        else:\n",
    "            stats.loc[len(stats)] = [cat, unc[0], opp[0]]"
   ]
  },
  {
   "cell_type": "code",
   "execution_count": 4,
   "metadata": {
    "collapsed": true
   },
   "outputs": [],
   "source": [
    "get_data(\"http://www.espn.com/mens-college-basketball/matchup?gameId=400949246\") # gonzaga"
   ]
  },
  {
   "cell_type": "code",
   "execution_count": 5,
   "metadata": {
    "collapsed": true
   },
   "outputs": [],
   "source": [
    "get_data(\"http://www.espn.com/mens-college-basketball/matchup?gameId=400948853\") # oregon"
   ]
  },
  {
   "cell_type": "code",
   "execution_count": 6,
   "metadata": {
    "collapsed": true
   },
   "outputs": [],
   "source": [
    "get_data(\"http://www.espn.com/mens-college-basketball/matchup?gameId=400948726\") # kentucky"
   ]
  },
  {
   "cell_type": "code",
   "execution_count": 7,
   "metadata": {
    "collapsed": true
   },
   "outputs": [],
   "source": [
    "get_data(\"http://www.espn.com/mens-college-basketball/matchup?gameId=400947324\") # butler"
   ]
  },
  {
   "cell_type": "code",
   "execution_count": 8,
   "metadata": {
    "collapsed": true
   },
   "outputs": [],
   "source": [
    "get_data(\"http://www.espn.com/mens-college-basketball/matchup?gameId=400947185\") # arkansas"
   ]
  },
  {
   "cell_type": "code",
   "execution_count": 9,
   "metadata": {
    "collapsed": true
   },
   "outputs": [],
   "source": [
    "get_data(\"http://www.espn.com/mens-college-basketball/matchup?gameId=400946425\") # texas southern"
   ]
  },
  {
   "cell_type": "code",
   "execution_count": 12,
   "metadata": {
    "collapsed": false
   },
   "outputs": [],
   "source": [
    "# function that will convert the numbers from strings to floats\n",
    "\n",
    "def to_floats(df):\n",
    "    for col in df.columns[1:]:\n",
    "        df[col] = df[col].astype(float)"
   ]
  },
  {
   "cell_type": "code",
   "execution_count": 13,
   "metadata": {
    "collapsed": true
   },
   "outputs": [],
   "source": [
    "to_floats(stats)\n",
    "to_floats(shots)"
   ]
  },
  {
   "cell_type": "code",
   "execution_count": 14,
   "metadata": {
    "collapsed": false
   },
   "outputs": [
    {
     "data": {
      "text/html": [
       "<div>\n",
       "<table border=\"1\" class=\"dataframe\">\n",
       "  <thead>\n",
       "    <tr style=\"text-align: right;\">\n",
       "      <th></th>\n",
       "      <th>stat</th>\n",
       "      <th>unc</th>\n",
       "      <th>opponent</th>\n",
       "    </tr>\n",
       "  </thead>\n",
       "  <tbody>\n",
       "    <tr>\n",
       "      <th>0</th>\n",
       "      <td>Assists</td>\n",
       "      <td>103.0</td>\n",
       "      <td>65.0</td>\n",
       "    </tr>\n",
       "    <tr>\n",
       "      <th>1</th>\n",
       "      <td>Blocks</td>\n",
       "      <td>29.0</td>\n",
       "      <td>22.0</td>\n",
       "    </tr>\n",
       "    <tr>\n",
       "      <th>2</th>\n",
       "      <td>Defensive Rebounds</td>\n",
       "      <td>177.0</td>\n",
       "      <td>154.0</td>\n",
       "    </tr>\n",
       "    <tr>\n",
       "      <th>3</th>\n",
       "      <td>Flagrant Fouls</td>\n",
       "      <td>0.0</td>\n",
       "      <td>0.0</td>\n",
       "    </tr>\n",
       "    <tr>\n",
       "      <th>4</th>\n",
       "      <td>Offensive Rebounds</td>\n",
       "      <td>93.0</td>\n",
       "      <td>57.0</td>\n",
       "    </tr>\n",
       "    <tr>\n",
       "      <th>5</th>\n",
       "      <td>Personal Fouls</td>\n",
       "      <td>106.0</td>\n",
       "      <td>121.0</td>\n",
       "    </tr>\n",
       "    <tr>\n",
       "      <th>6</th>\n",
       "      <td>Steals</td>\n",
       "      <td>47.0</td>\n",
       "      <td>35.0</td>\n",
       "    </tr>\n",
       "    <tr>\n",
       "      <th>7</th>\n",
       "      <td>Team Rebounds</td>\n",
       "      <td>0.0</td>\n",
       "      <td>0.0</td>\n",
       "    </tr>\n",
       "    <tr>\n",
       "      <th>8</th>\n",
       "      <td>Technical Fouls</td>\n",
       "      <td>0.0</td>\n",
       "      <td>0.0</td>\n",
       "    </tr>\n",
       "    <tr>\n",
       "      <th>9</th>\n",
       "      <td>Total Rebounds</td>\n",
       "      <td>270.0</td>\n",
       "      <td>211.0</td>\n",
       "    </tr>\n",
       "    <tr>\n",
       "      <th>10</th>\n",
       "      <td>Total Turnovers</td>\n",
       "      <td>68.0</td>\n",
       "      <td>80.0</td>\n",
       "    </tr>\n",
       "  </tbody>\n",
       "</table>\n",
       "</div>"
      ],
      "text/plain": [
       "                  stat    unc  opponent\n",
       "0              Assists  103.0      65.0\n",
       "1               Blocks   29.0      22.0\n",
       "2   Defensive Rebounds  177.0     154.0\n",
       "3       Flagrant Fouls    0.0       0.0\n",
       "4   Offensive Rebounds   93.0      57.0\n",
       "5       Personal Fouls  106.0     121.0\n",
       "6               Steals   47.0      35.0\n",
       "7        Team Rebounds    0.0       0.0\n",
       "8      Technical Fouls    0.0       0.0\n",
       "9       Total Rebounds  270.0     211.0\n",
       "10     Total Turnovers   68.0      80.0"
      ]
     },
     "execution_count": 14,
     "metadata": {},
     "output_type": "execute_result"
    }
   ],
   "source": [
    "stats_sum = stats[~stats.stat.str.contains('%')].groupby('stat').sum().reset_index()\n",
    "stats_sum"
   ]
  },
  {
   "cell_type": "code",
   "execution_count": 15,
   "metadata": {
    "collapsed": false
   },
   "outputs": [
    {
     "data": {
      "text/html": [
       "<div>\n",
       "<table border=\"1\" class=\"dataframe\">\n",
       "  <thead>\n",
       "    <tr style=\"text-align: right;\">\n",
       "      <th></th>\n",
       "      <th>stat</th>\n",
       "      <th>unc_made</th>\n",
       "      <th>unc_att</th>\n",
       "      <th>opp_made</th>\n",
       "      <th>opp_att</th>\n",
       "    </tr>\n",
       "  </thead>\n",
       "  <tbody>\n",
       "    <tr>\n",
       "      <th>0</th>\n",
       "      <td>3PT Made-Attempted</td>\n",
       "      <td>37.0</td>\n",
       "      <td>126.0</td>\n",
       "      <td>45.0</td>\n",
       "      <td>140.0</td>\n",
       "    </tr>\n",
       "    <tr>\n",
       "      <th>1</th>\n",
       "      <td>FG Made-Attempted</td>\n",
       "      <td>171.0</td>\n",
       "      <td>394.0</td>\n",
       "      <td>144.0</td>\n",
       "      <td>364.0</td>\n",
       "    </tr>\n",
       "    <tr>\n",
       "      <th>2</th>\n",
       "      <td>FT Made-Attempted</td>\n",
       "      <td>111.0</td>\n",
       "      <td>163.0</td>\n",
       "      <td>90.0</td>\n",
       "      <td>118.0</td>\n",
       "    </tr>\n",
       "  </tbody>\n",
       "</table>\n",
       "</div>"
      ],
      "text/plain": [
       "                 stat  unc_made  unc_att  opp_made  opp_att\n",
       "0  3PT Made-Attempted      37.0    126.0      45.0    140.0\n",
       "1   FG Made-Attempted     171.0    394.0     144.0    364.0\n",
       "2   FT Made-Attempted     111.0    163.0      90.0    118.0"
      ]
     },
     "execution_count": 15,
     "metadata": {},
     "output_type": "execute_result"
    }
   ],
   "source": [
    "shots_sum = shots.groupby('stat').sum().reset_index()\n",
    "shots_sum"
   ]
  },
  {
   "cell_type": "code",
   "execution_count": 16,
   "metadata": {
    "collapsed": true
   },
   "outputs": [],
   "source": [
    "shots_sum['unc_pct'] = shots_sum.unc_made / shots_sum.unc_att\n",
    "shots_sum['opp_pct'] = shots_sum.opp_made / shots_sum.opp_att"
   ]
  },
  {
   "cell_type": "code",
   "execution_count": 17,
   "metadata": {
    "collapsed": false
   },
   "outputs": [
    {
     "data": {
      "text/html": [
       "<div>\n",
       "<table border=\"1\" class=\"dataframe\">\n",
       "  <thead>\n",
       "    <tr style=\"text-align: right;\">\n",
       "      <th></th>\n",
       "      <th>stat</th>\n",
       "      <th>unc_made</th>\n",
       "      <th>unc_att</th>\n",
       "      <th>opp_made</th>\n",
       "      <th>opp_att</th>\n",
       "      <th>unc_pct</th>\n",
       "      <th>opp_pct</th>\n",
       "    </tr>\n",
       "  </thead>\n",
       "  <tbody>\n",
       "    <tr>\n",
       "      <th>0</th>\n",
       "      <td>3PT Made-Attempted</td>\n",
       "      <td>37.0</td>\n",
       "      <td>126.0</td>\n",
       "      <td>45.0</td>\n",
       "      <td>140.0</td>\n",
       "      <td>0.293651</td>\n",
       "      <td>0.321429</td>\n",
       "    </tr>\n",
       "    <tr>\n",
       "      <th>1</th>\n",
       "      <td>FG Made-Attempted</td>\n",
       "      <td>171.0</td>\n",
       "      <td>394.0</td>\n",
       "      <td>144.0</td>\n",
       "      <td>364.0</td>\n",
       "      <td>0.434010</td>\n",
       "      <td>0.395604</td>\n",
       "    </tr>\n",
       "    <tr>\n",
       "      <th>2</th>\n",
       "      <td>FT Made-Attempted</td>\n",
       "      <td>111.0</td>\n",
       "      <td>163.0</td>\n",
       "      <td>90.0</td>\n",
       "      <td>118.0</td>\n",
       "      <td>0.680982</td>\n",
       "      <td>0.762712</td>\n",
       "    </tr>\n",
       "  </tbody>\n",
       "</table>\n",
       "</div>"
      ],
      "text/plain": [
       "                 stat  unc_made  unc_att  opp_made  opp_att   unc_pct  \\\n",
       "0  3PT Made-Attempted      37.0    126.0      45.0    140.0  0.293651   \n",
       "1   FG Made-Attempted     171.0    394.0     144.0    364.0  0.434010   \n",
       "2   FT Made-Attempted     111.0    163.0      90.0    118.0  0.680982   \n",
       "\n",
       "    opp_pct  \n",
       "0  0.321429  \n",
       "1  0.395604  \n",
       "2  0.762712  "
      ]
     },
     "execution_count": 17,
     "metadata": {},
     "output_type": "execute_result"
    }
   ],
   "source": [
    "shots_sum"
   ]
  },
  {
   "cell_type": "code",
   "execution_count": 18,
   "metadata": {
    "collapsed": true
   },
   "outputs": [],
   "source": [
    "# export to csv in order to create visuals in tableau\n",
    "stats_sum.to_csv('unc_stats.csv')"
   ]
  },
  {
   "cell_type": "code",
   "execution_count": 20,
   "metadata": {
    "collapsed": false
   },
   "outputs": [
    {
     "data": {
      "text/html": [
       "<div>\n",
       "<table border=\"1\" class=\"dataframe\">\n",
       "  <thead>\n",
       "    <tr style=\"text-align: right;\">\n",
       "      <th></th>\n",
       "      <th>stat</th>\n",
       "      <th>unc</th>\n",
       "      <th>opponent</th>\n",
       "      <th>unc_pergame</th>\n",
       "      <th>opp_pergame</th>\n",
       "    </tr>\n",
       "  </thead>\n",
       "  <tbody>\n",
       "    <tr>\n",
       "      <th>0</th>\n",
       "      <td>Assists</td>\n",
       "      <td>103.0</td>\n",
       "      <td>65.0</td>\n",
       "      <td>17.166667</td>\n",
       "      <td>10.833333</td>\n",
       "    </tr>\n",
       "    <tr>\n",
       "      <th>1</th>\n",
       "      <td>Blocks</td>\n",
       "      <td>29.0</td>\n",
       "      <td>22.0</td>\n",
       "      <td>4.833333</td>\n",
       "      <td>3.666667</td>\n",
       "    </tr>\n",
       "    <tr>\n",
       "      <th>2</th>\n",
       "      <td>Defensive Rebounds</td>\n",
       "      <td>177.0</td>\n",
       "      <td>154.0</td>\n",
       "      <td>29.500000</td>\n",
       "      <td>25.666667</td>\n",
       "    </tr>\n",
       "    <tr>\n",
       "      <th>3</th>\n",
       "      <td>Flagrant Fouls</td>\n",
       "      <td>0.0</td>\n",
       "      <td>0.0</td>\n",
       "      <td>0.000000</td>\n",
       "      <td>0.000000</td>\n",
       "    </tr>\n",
       "    <tr>\n",
       "      <th>4</th>\n",
       "      <td>Offensive Rebounds</td>\n",
       "      <td>93.0</td>\n",
       "      <td>57.0</td>\n",
       "      <td>15.500000</td>\n",
       "      <td>9.500000</td>\n",
       "    </tr>\n",
       "    <tr>\n",
       "      <th>5</th>\n",
       "      <td>Personal Fouls</td>\n",
       "      <td>106.0</td>\n",
       "      <td>121.0</td>\n",
       "      <td>17.666667</td>\n",
       "      <td>20.166667</td>\n",
       "    </tr>\n",
       "    <tr>\n",
       "      <th>6</th>\n",
       "      <td>Steals</td>\n",
       "      <td>47.0</td>\n",
       "      <td>35.0</td>\n",
       "      <td>7.833333</td>\n",
       "      <td>5.833333</td>\n",
       "    </tr>\n",
       "    <tr>\n",
       "      <th>7</th>\n",
       "      <td>Team Rebounds</td>\n",
       "      <td>0.0</td>\n",
       "      <td>0.0</td>\n",
       "      <td>0.000000</td>\n",
       "      <td>0.000000</td>\n",
       "    </tr>\n",
       "    <tr>\n",
       "      <th>8</th>\n",
       "      <td>Technical Fouls</td>\n",
       "      <td>0.0</td>\n",
       "      <td>0.0</td>\n",
       "      <td>0.000000</td>\n",
       "      <td>0.000000</td>\n",
       "    </tr>\n",
       "    <tr>\n",
       "      <th>9</th>\n",
       "      <td>Total Rebounds</td>\n",
       "      <td>270.0</td>\n",
       "      <td>211.0</td>\n",
       "      <td>45.000000</td>\n",
       "      <td>35.166667</td>\n",
       "    </tr>\n",
       "    <tr>\n",
       "      <th>10</th>\n",
       "      <td>Total Turnovers</td>\n",
       "      <td>68.0</td>\n",
       "      <td>80.0</td>\n",
       "      <td>11.333333</td>\n",
       "      <td>13.333333</td>\n",
       "    </tr>\n",
       "  </tbody>\n",
       "</table>\n",
       "</div>"
      ],
      "text/plain": [
       "                  stat    unc  opponent  unc_pergame  opp_pergame\n",
       "0              Assists  103.0      65.0    17.166667    10.833333\n",
       "1               Blocks   29.0      22.0     4.833333     3.666667\n",
       "2   Defensive Rebounds  177.0     154.0    29.500000    25.666667\n",
       "3       Flagrant Fouls    0.0       0.0     0.000000     0.000000\n",
       "4   Offensive Rebounds   93.0      57.0    15.500000     9.500000\n",
       "5       Personal Fouls  106.0     121.0    17.666667    20.166667\n",
       "6               Steals   47.0      35.0     7.833333     5.833333\n",
       "7        Team Rebounds    0.0       0.0     0.000000     0.000000\n",
       "8      Technical Fouls    0.0       0.0     0.000000     0.000000\n",
       "9       Total Rebounds  270.0     211.0    45.000000    35.166667\n",
       "10     Total Turnovers   68.0      80.0    11.333333    13.333333"
      ]
     },
     "execution_count": 20,
     "metadata": {},
     "output_type": "execute_result"
    }
   ],
   "source": [
    "# calculate per game numbers\n",
    "\n",
    "stats_sum['unc_pergame'] = stats_sum.unc / 6\n",
    "stats_sum['opp_pergame'] = stats_sum.opponent / 6\n",
    "stats_sum"
   ]
  },
  {
   "cell_type": "code",
   "execution_count": null,
   "metadata": {
    "collapsed": true
   },
   "outputs": [],
   "source": []
  }
 ],
 "metadata": {
  "kernelspec": {
   "display_name": "Python 2",
   "language": "python",
   "name": "python2"
  },
  "language_info": {
   "codemirror_mode": {
    "name": "ipython",
    "version": 2
   },
   "file_extension": ".py",
   "mimetype": "text/x-python",
   "name": "python",
   "nbconvert_exporter": "python",
   "pygments_lexer": "ipython2",
   "version": "2.7.13"
  }
 },
 "nbformat": 4,
 "nbformat_minor": 2
}
