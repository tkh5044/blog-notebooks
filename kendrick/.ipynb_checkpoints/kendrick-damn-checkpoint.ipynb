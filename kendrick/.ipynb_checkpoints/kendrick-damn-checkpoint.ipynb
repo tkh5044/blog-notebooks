{
 "cells": [
  {
   "cell_type": "code",
   "execution_count": 1,
   "metadata": {
    "collapsed": true
   },
   "outputs": [],
   "source": [
    "import requests\n",
    "from bs4 import BeautifulSoup"
   ]
  },
  {
   "cell_type": "code",
   "execution_count": 22,
   "metadata": {
    "collapsed": true
   },
   "outputs": [],
   "source": [
    "butterfly_songs = [\n",
    "    'wesleys-theory',\n",
    "    'for-free-interlude',\n",
    "    'king-kunta',\n",
    "    'institutionalized',\n",
    "    'these-walls',\n",
    "    'u',\n",
    "    'alright',\n",
    "    'for-sale-interlude',\n",
    "    'momma',\n",
    "    'hood-politics',\n",
    "    'how-much-a-dollar-cost',\n",
    "    'complexion-a-zulu-love',\n",
    "    'the-blacker-the-berry',\n",
    "    'you-aint-gotta-lie-momma-said',\n",
    "    'i',\n",
    "    'mortal-man'\n",
    "]"
   ]
  },
  {
   "cell_type": "code",
   "execution_count": 23,
   "metadata": {
    "collapsed": true
   },
   "outputs": [],
   "source": [
    "from time import sleep"
   ]
  },
  {
   "cell_type": "code",
   "execution_count": 24,
   "metadata": {
    "collapsed": false
   },
   "outputs": [],
   "source": [
    "butterfly_lyrics = []\n",
    "for i in butterfly_songs:\n",
    "    url = 'https://genius.com/Kendrick-lamar-' + i + '-lyrics'\n",
    "    html = requests.get(url)\n",
    "    soup = BeautifulSoup(html.text, 'html.parser')\n",
    "    butterfly_lyrics.append(soup.find('p').text)\n",
    "    sleep(1)"
   ]
  },
  {
   "cell_type": "code",
   "execution_count": 25,
   "metadata": {
    "collapsed": true
   },
   "outputs": [],
   "source": [
    "import pandas as pd\n",
    "import re"
   ]
  },
  {
   "cell_type": "code",
   "execution_count": 26,
   "metadata": {
    "collapsed": false
   },
   "outputs": [],
   "source": [
    "tpab = pd.DataFrame(columns=['song', 'lyrics'])\n",
    "tpab.song = butterfly_songs\n",
    "tpab.lyrics = butterfly_lyrics\n",
    "tpab.lyrics = tpab.lyrics.str.encode('utf-8').astype(str)"
   ]
  },
  {
   "cell_type": "code",
   "execution_count": 27,
   "metadata": {
    "collapsed": true
   },
   "outputs": [],
   "source": [
    "new_lyrics = []\n",
    "for i in tpab.lyrics:\n",
    "    new_lyrics.append(re.sub('\\[.+]', ' ', i))\n",
    "tpab.lyrics = new_lyrics"
   ]
  },
  {
   "cell_type": "code",
   "execution_count": 46,
   "metadata": {
    "collapsed": false
   },
   "outputs": [],
   "source": [
    "tpab.lyrics[0] = re.sub('\\[.+\\s.+]', ' ', tpab.lyrics[0])"
   ]
  },
  {
   "cell_type": "code",
   "execution_count": 51,
   "metadata": {
    "collapsed": true
   },
   "outputs": [],
   "source": [
    "tpab.lyrics = tpab.lyrics.str.replace('\\n', ' ').str.replace(\"'\", '')"
   ]
  },
  {
   "cell_type": "code",
   "execution_count": 52,
   "metadata": {
    "collapsed": true
   },
   "outputs": [],
   "source": [
    "num_of_words = []\n",
    "for i in tpab.lyrics:\n",
    "    num_of_words.append(len(i.split()))\n",
    "tpab['num_of_words'] = num_of_words"
   ]
  },
  {
   "cell_type": "code",
   "execution_count": 47,
   "metadata": {
    "collapsed": true
   },
   "outputs": [],
   "source": [
    "pd.options.display.max_colwidth = 100"
   ]
  },
  {
   "cell_type": "code",
   "execution_count": 53,
   "metadata": {
    "collapsed": false,
    "scrolled": false
   },
   "outputs": [
    {
     "data": {
      "text/html": [
       "<div>\n",
       "<table border=\"1\" class=\"dataframe\">\n",
       "  <thead>\n",
       "    <tr style=\"text-align: right;\">\n",
       "      <th></th>\n",
       "      <th>song</th>\n",
       "      <th>lyrics</th>\n",
       "      <th>num_of_words</th>\n",
       "    </tr>\n",
       "  </thead>\n",
       "  <tbody>\n",
       "    <tr>\n",
       "      <th>0</th>\n",
       "      <td>wesleys-theory</td>\n",
       "      <td>Every nigga is a star, ay, every nigga is a star Every nigga is a star, ay, every nigga is ...</td>\n",
       "      <td>674</td>\n",
       "    </tr>\n",
       "    <tr>\n",
       "      <th>1</th>\n",
       "      <td>for-free-interlude</td>\n",
       "      <td>Fuck you, motherfucker, you a ho-ass nigga I dont know why you trying to go big, nigga you ...</td>\n",
       "      <td>403</td>\n",
       "    </tr>\n",
       "    <tr>\n",
       "      <th>2</th>\n",
       "      <td>king-kunta</td>\n",
       "      <td>I got a bone to pick I dont want you monkey-mouth motherfuckers Sittin in my throne again A...</td>\n",
       "      <td>696</td>\n",
       "    </tr>\n",
       "    <tr>\n",
       "      <th>3</th>\n",
       "      <td>institutionalized</td>\n",
       "      <td>What money got to do with it When I dont know the full definition of a rap image? Im trappe...</td>\n",
       "      <td>661</td>\n",
       "    </tr>\n",
       "    <tr>\n",
       "      <th>4</th>\n",
       "      <td>these-walls</td>\n",
       "      <td>I remember you was conflicted, misusing your influence Sometimes, I did the same   If the...</td>\n",
       "      <td>688</td>\n",
       "    </tr>\n",
       "    <tr>\n",
       "      <th>5</th>\n",
       "      <td>u</td>\n",
       "      <td>Loving you is complicated, loving you is complicated Loving you is complicated, loving y...</td>\n",
       "      <td>626</td>\n",
       "    </tr>\n",
       "    <tr>\n",
       "      <th>6</th>\n",
       "      <td>alright</td>\n",
       "      <td>Alls my life I has to fight, nigga Alls my life I... Hard times like, \"God!\" Bad trips li...</td>\n",
       "      <td>702</td>\n",
       "    </tr>\n",
       "    <tr>\n",
       "      <th>7</th>\n",
       "      <td>for-sale-interlude</td>\n",
       "      <td>Oh, oh, oh, ohhhh, ohh, ohh Oh, oh, oh, ohhhh, ohh, ohh Breathing Whats wrong, nigga? I though...</td>\n",
       "      <td>543</td>\n",
       "    </tr>\n",
       "    <tr>\n",
       "      <th>8</th>\n",
       "      <td>momma</td>\n",
       "      <td>Oh shit! Oh, I need that. I need that sloppy. That sloppy. Like a Chevy in quicksand. Yeah....</td>\n",
       "      <td>831</td>\n",
       "    </tr>\n",
       "    <tr>\n",
       "      <th>9</th>\n",
       "      <td>hood-politics</td>\n",
       "      <td>K-Dot, pick up the phone, nigga Every time I call, its going to voicemail Dont tell me they...</td>\n",
       "      <td>840</td>\n",
       "    </tr>\n",
       "    <tr>\n",
       "      <th>10</th>\n",
       "      <td>how-much-a-dollar-cost</td>\n",
       "      <td>How much a dollar really cost? The question is detrimental, paralyzin my thoughts Parasites...</td>\n",
       "      <td>712</td>\n",
       "    </tr>\n",
       "    <tr>\n",
       "      <th>11</th>\n",
       "      <td>complexion-a-zulu-love</td>\n",
       "      <td>(Im with this)    Complexion (two-step) Complexion dont mean a thing (its a Zulu love) Comp...</td>\n",
       "      <td>642</td>\n",
       "    </tr>\n",
       "    <tr>\n",
       "      <th>12</th>\n",
       "      <td>the-blacker-the-berry</td>\n",
       "      <td>Everything black, I dont want black (They want us to bow) I want everything black, I aint n...</td>\n",
       "      <td>922</td>\n",
       "    </tr>\n",
       "    <tr>\n",
       "      <th>13</th>\n",
       "      <td>you-aint-gotta-lie-momma-said</td>\n",
       "      <td>Study long, study wrong, nigga Hey, yall close that front door, yall let flies in this moth...</td>\n",
       "      <td>658</td>\n",
       "    </tr>\n",
       "    <tr>\n",
       "      <th>14</th>\n",
       "      <td>i</td>\n",
       "      <td>​​​​​​​​​​​​​​​​​​​      Is this mic on? (Hey, move this way, this way) Hey, Hey! Hey! Turn the...</td>\n",
       "      <td>1088</td>\n",
       "    </tr>\n",
       "    <tr>\n",
       "      <th>15</th>\n",
       "      <td>mortal-man</td>\n",
       "      <td>The ghost of Mandela, hope my flows they propel it Let these words be your earth and moon Y...</td>\n",
       "      <td>927</td>\n",
       "    </tr>\n",
       "  </tbody>\n",
       "</table>\n",
       "</div>"
      ],
      "text/plain": [
       "                             song  \\\n",
       "0                  wesleys-theory   \n",
       "1              for-free-interlude   \n",
       "2                      king-kunta   \n",
       "3               institutionalized   \n",
       "4                     these-walls   \n",
       "5                               u   \n",
       "6                         alright   \n",
       "7              for-sale-interlude   \n",
       "8                           momma   \n",
       "9                   hood-politics   \n",
       "10         how-much-a-dollar-cost   \n",
       "11         complexion-a-zulu-love   \n",
       "12          the-blacker-the-berry   \n",
       "13  you-aint-gotta-lie-momma-said   \n",
       "14                              i   \n",
       "15                     mortal-man   \n",
       "\n",
       "                                                                                                 lyrics  \\\n",
       "0        Every nigga is a star, ay, every nigga is a star Every nigga is a star, ay, every nigga is ...   \n",
       "1        Fuck you, motherfucker, you a ho-ass nigga I dont know why you trying to go big, nigga you ...   \n",
       "2        I got a bone to pick I dont want you monkey-mouth motherfuckers Sittin in my throne again A...   \n",
       "3        What money got to do with it When I dont know the full definition of a rap image? Im trappe...   \n",
       "4          I remember you was conflicted, misusing your influence Sometimes, I did the same   If the...   \n",
       "5           Loving you is complicated, loving you is complicated Loving you is complicated, loving y...   \n",
       "6          Alls my life I has to fight, nigga Alls my life I... Hard times like, \"God!\" Bad trips li...   \n",
       "7     Oh, oh, oh, ohhhh, ohh, ohh Oh, oh, oh, ohhhh, ohh, ohh Breathing Whats wrong, nigga? I though...   \n",
       "8        Oh shit! Oh, I need that. I need that sloppy. That sloppy. Like a Chevy in quicksand. Yeah....   \n",
       "9        K-Dot, pick up the phone, nigga Every time I call, its going to voicemail Dont tell me they...   \n",
       "10       How much a dollar really cost? The question is detrimental, paralyzin my thoughts Parasites...   \n",
       "11       (Im with this)    Complexion (two-step) Complexion dont mean a thing (its a Zulu love) Comp...   \n",
       "12       Everything black, I dont want black (They want us to bow) I want everything black, I aint n...   \n",
       "13       Study long, study wrong, nigga Hey, yall close that front door, yall let flies in this moth...   \n",
       "14   ​​​​​​​​​​​​​​​​​​​      Is this mic on? (Hey, move this way, this way) Hey, Hey! Hey! Turn the...   \n",
       "15       The ghost of Mandela, hope my flows they propel it Let these words be your earth and moon Y...   \n",
       "\n",
       "    num_of_words  \n",
       "0            674  \n",
       "1            403  \n",
       "2            696  \n",
       "3            661  \n",
       "4            688  \n",
       "5            626  \n",
       "6            702  \n",
       "7            543  \n",
       "8            831  \n",
       "9            840  \n",
       "10           712  \n",
       "11           642  \n",
       "12           922  \n",
       "13           658  \n",
       "14          1088  \n",
       "15           927  "
      ]
     },
     "execution_count": 53,
     "metadata": {},
     "output_type": "execute_result"
    }
   ],
   "source": [
    "tpab"
   ]
  },
  {
   "cell_type": "code",
   "execution_count": null,
   "metadata": {
    "collapsed": true
   },
   "outputs": [],
   "source": []
  },
  {
   "cell_type": "code",
   "execution_count": 54,
   "metadata": {
    "collapsed": true
   },
   "outputs": [],
   "source": [
    "damn = pd.DataFrame(columns=['song', 'lyrics'])"
   ]
  },
  {
   "cell_type": "code",
   "execution_count": 55,
   "metadata": {
    "collapsed": true
   },
   "outputs": [],
   "source": [
    "damn_songs = [\n",
    "    'blood',\n",
    "    'dna',\n",
    "    'yah', \n",
    "    'element',\n",
    "    'feel',\n",
    "    'loyalty',\n",
    "    'pride',\n",
    "    'humble',\n",
    "    'lust',\n",
    "    'love',\n",
    "    'xxx',\n",
    "    'fear',\n",
    "    'god',\n",
    "    'duckworth'\n",
    "]"
   ]
  },
  {
   "cell_type": "code",
   "execution_count": 56,
   "metadata": {
    "collapsed": false
   },
   "outputs": [],
   "source": [
    "damn_lyrics = []\n",
    "for i in damn_songs:\n",
    "    url = 'https://genius.com/Kendrick-lamar-' + i + '-lyrics'\n",
    "    html = requests.get(url)\n",
    "    soup = BeautifulSoup(html.text, 'html.parser')\n",
    "    damn_lyrics.append(soup.find('p').text)\n",
    "    sleep(1)"
   ]
  },
  {
   "cell_type": "code",
   "execution_count": 57,
   "metadata": {
    "collapsed": false
   },
   "outputs": [],
   "source": [
    "damn.song = damn_songs\n",
    "damn.lyrics = damn_lyrics\n",
    "damn.lyrics = damn.lyrics.str.encode('utf-8').astype(str)"
   ]
  },
  {
   "cell_type": "code",
   "execution_count": 58,
   "metadata": {
    "collapsed": false
   },
   "outputs": [],
   "source": [
    "new_lyrics = []\n",
    "for i in damn.lyrics:\n",
    "    new_lyrics.append(re.sub('\\[.+]', ' ', i))\n",
    "damn.lyrics = new_lyrics"
   ]
  },
  {
   "cell_type": "code",
   "execution_count": 59,
   "metadata": {
    "collapsed": true
   },
   "outputs": [],
   "source": [
    "damn.lyrics = damn.lyrics.str.replace('\\n', ' ').str.replace(\"'\", '')"
   ]
  },
  {
   "cell_type": "code",
   "execution_count": 60,
   "metadata": {
    "collapsed": true
   },
   "outputs": [],
   "source": [
    "num_of_words = []\n",
    "for i in damn.lyrics:\n",
    "    num_of_words.append(len(i.split()))\n",
    "damn['num_of_words'] = num_of_words"
   ]
  },
  {
   "cell_type": "code",
   "execution_count": 62,
   "metadata": {
    "collapsed": false
   },
   "outputs": [
    {
     "data": {
      "text/html": [
       "<div>\n",
       "<table border=\"1\" class=\"dataframe\">\n",
       "  <thead>\n",
       "    <tr style=\"text-align: right;\">\n",
       "      <th></th>\n",
       "      <th>song</th>\n",
       "      <th>lyrics</th>\n",
       "      <th>num_of_words</th>\n",
       "    </tr>\n",
       "  </thead>\n",
       "  <tbody>\n",
       "    <tr>\n",
       "      <th>0</th>\n",
       "      <td>blood</td>\n",
       "      <td>Is it wickedness? Is it weakness? You decide Are we gonna live or die?    So I was takin a wal...</td>\n",
       "      <td>150</td>\n",
       "    </tr>\n",
       "    <tr>\n",
       "      <th>1</th>\n",
       "      <td>dna</td>\n",
       "      <td>I got, I got, I got, I got Loyalty, got royalty inside my DNA Cocaine quarter piece, got war a...</td>\n",
       "      <td>666</td>\n",
       "    </tr>\n",
       "    <tr>\n",
       "      <th>2</th>\n",
       "      <td>yah</td>\n",
       "      <td>New shit, new Kung Fu Kenny    I got so many theories and suspicions Im diagnosed with real ni...</td>\n",
       "      <td>260</td>\n",
       "    </tr>\n",
       "    <tr>\n",
       "      <th>3</th>\n",
       "      <td>element</td>\n",
       "      <td>New Kung Fu Kenny Aint nobody prayin for me Yall know, what happens on Earth stays on Earth He...</td>\n",
       "      <td>658</td>\n",
       "    </tr>\n",
       "    <tr>\n",
       "      <th>4</th>\n",
       "      <td>feel</td>\n",
       "      <td>Aint nobody prayin for me Aint nobody prayin for me Aint nobody prayin for me Aint nobody pray...</td>\n",
       "      <td>564</td>\n",
       "    </tr>\n",
       "    <tr>\n",
       "      <th>5</th>\n",
       "      <td>loyalty</td>\n",
       "      <td>I said Im geeked and Im fired up (fired, fire) All I want tonight is just to get high up (h...</td>\n",
       "      <td>545</td>\n",
       "    </tr>\n",
       "    <tr>\n",
       "      <th>6</th>\n",
       "      <td>pride</td>\n",
       "      <td>Loves gonna get you killed But prides gonna be the death of you and you and me And you and you...</td>\n",
       "      <td>473</td>\n",
       "    </tr>\n",
       "    <tr>\n",
       "      <th>7</th>\n",
       "      <td>humble</td>\n",
       "      <td>Wicked or weakness You gotta see this Waaaaay (yeah, yeah!)    Nobody pray for me Its been tha...</td>\n",
       "      <td>609</td>\n",
       "    </tr>\n",
       "    <tr>\n",
       "      <th>8</th>\n",
       "      <td>lust</td>\n",
       "      <td>I need some water Somethin came over me Way too hot to simmer down Might as well overheat Too ...</td>\n",
       "      <td>781</td>\n",
       "    </tr>\n",
       "    <tr>\n",
       "      <th>9</th>\n",
       "      <td>love</td>\n",
       "      <td>Damn, love or lust Damn, all of us    Give me a run for my money There is nobody, no one to ou...</td>\n",
       "      <td>539</td>\n",
       "    </tr>\n",
       "    <tr>\n",
       "      <th>10</th>\n",
       "      <td>xxx</td>\n",
       "      <td>America, God bless you if its good to you America please take my hand Can you help me underst—...</td>\n",
       "      <td>621</td>\n",
       "    </tr>\n",
       "    <tr>\n",
       "      <th>11</th>\n",
       "      <td>fear</td>\n",
       "      <td>I dont think I could find a way to make it on this earth Whats up, family? Yeah, its yo cousin...</td>\n",
       "      <td>1281</td>\n",
       "    </tr>\n",
       "    <tr>\n",
       "      <th>12</th>\n",
       "      <td>god</td>\n",
       "      <td>This what God feel like, huh, yeah Laughin to the bank like, \"A-ha!\", huh, yeah Flex on swole ...</td>\n",
       "      <td>458</td>\n",
       "    </tr>\n",
       "    <tr>\n",
       "      <th>13</th>\n",
       "      <td>duckworth</td>\n",
       "      <td>It was always me vs the world Until I found its me vs me Why, why, why, why? Why, why, why, wh...</td>\n",
       "      <td>666</td>\n",
       "    </tr>\n",
       "  </tbody>\n",
       "</table>\n",
       "</div>"
      ],
      "text/plain": [
       "         song  \\\n",
       "0       blood   \n",
       "1         dna   \n",
       "2         yah   \n",
       "3     element   \n",
       "4        feel   \n",
       "5     loyalty   \n",
       "6       pride   \n",
       "7      humble   \n",
       "8        lust   \n",
       "9        love   \n",
       "10        xxx   \n",
       "11       fear   \n",
       "12        god   \n",
       "13  duckworth   \n",
       "\n",
       "                                                                                                 lyrics  \\\n",
       "0     Is it wickedness? Is it weakness? You decide Are we gonna live or die?    So I was takin a wal...   \n",
       "1     I got, I got, I got, I got Loyalty, got royalty inside my DNA Cocaine quarter piece, got war a...   \n",
       "2     New shit, new Kung Fu Kenny    I got so many theories and suspicions Im diagnosed with real ni...   \n",
       "3     New Kung Fu Kenny Aint nobody prayin for me Yall know, what happens on Earth stays on Earth He...   \n",
       "4     Aint nobody prayin for me Aint nobody prayin for me Aint nobody prayin for me Aint nobody pray...   \n",
       "5        I said Im geeked and Im fired up (fired, fire) All I want tonight is just to get high up (h...   \n",
       "6     Loves gonna get you killed But prides gonna be the death of you and you and me And you and you...   \n",
       "7     Wicked or weakness You gotta see this Waaaaay (yeah, yeah!)    Nobody pray for me Its been tha...   \n",
       "8     I need some water Somethin came over me Way too hot to simmer down Might as well overheat Too ...   \n",
       "9     Damn, love or lust Damn, all of us    Give me a run for my money There is nobody, no one to ou...   \n",
       "10    America, God bless you if its good to you America please take my hand Can you help me underst—...   \n",
       "11    I dont think I could find a way to make it on this earth Whats up, family? Yeah, its yo cousin...   \n",
       "12    This what God feel like, huh, yeah Laughin to the bank like, \"A-ha!\", huh, yeah Flex on swole ...   \n",
       "13    It was always me vs the world Until I found its me vs me Why, why, why, why? Why, why, why, wh...   \n",
       "\n",
       "    num_of_words  \n",
       "0            150  \n",
       "1            666  \n",
       "2            260  \n",
       "3            658  \n",
       "4            564  \n",
       "5            545  \n",
       "6            473  \n",
       "7            609  \n",
       "8            781  \n",
       "9            539  \n",
       "10           621  \n",
       "11          1281  \n",
       "12           458  \n",
       "13           666  "
      ]
     },
     "execution_count": 62,
     "metadata": {},
     "output_type": "execute_result"
    }
   ],
   "source": [
    "damn"
   ]
  },
  {
   "cell_type": "code",
   "execution_count": null,
   "metadata": {
    "collapsed": true
   },
   "outputs": [],
   "source": []
  },
  {
   "cell_type": "code",
   "execution_count": null,
   "metadata": {
    "collapsed": true
   },
   "outputs": [],
   "source": []
  },
  {
   "cell_type": "code",
   "execution_count": null,
   "metadata": {
    "collapsed": true
   },
   "outputs": [],
   "source": []
  },
  {
   "cell_type": "code",
   "execution_count": null,
   "metadata": {
    "collapsed": true
   },
   "outputs": [],
   "source": []
  },
  {
   "cell_type": "code",
   "execution_count": null,
   "metadata": {
    "collapsed": true
   },
   "outputs": [],
   "source": []
  },
  {
   "cell_type": "code",
   "execution_count": 63,
   "metadata": {
    "collapsed": false
   },
   "outputs": [
    {
     "data": {
      "text/plain": [
       "1554"
      ]
     },
     "execution_count": 63,
     "metadata": {},
     "output_type": "execute_result"
    }
   ],
   "source": [
    "from sklearn.feature_extraction.text import CountVectorizer\n",
    "cv = CountVectorizer(stop_words='english')\n",
    "cv.fit(damn.lyrics)\n",
    "len(cv.get_feature_names())"
   ]
  },
  {
   "cell_type": "code",
   "execution_count": 64,
   "metadata": {
    "collapsed": true
   },
   "outputs": [],
   "source": [
    "damn_words = pd.DataFrame(cv.transform(damn.lyrics).todense(), columns=cv.get_feature_names())"
   ]
  },
  {
   "cell_type": "code",
   "execution_count": 65,
   "metadata": {
    "collapsed": false
   },
   "outputs": [
    {
     "data": {
      "text/plain": [
       "like       93\n",
       "feel       71\n",
       "im         67\n",
       "hol        67\n",
       "bitch      56\n",
       "dont       49\n",
       "got        46\n",
       "yah        43\n",
       "aint       38\n",
       "yeah       38\n",
       "just       37\n",
       "loyalty    37\n",
       "know       31\n",
       "way        29\n",
       "make       28\n",
       "ill        28\n",
       "die        27\n",
       "ayy        27\n",
       "nigga      26\n",
       "shit       26\n",
       "dtype: int64"
      ]
     },
     "execution_count": 65,
     "metadata": {},
     "output_type": "execute_result"
    }
   ],
   "source": [
    "word_counts = damn_words.sum(axis=0)\n",
    "word_counts.sort_values(ascending = False).head(20)"
   ]
  },
  {
   "cell_type": "code",
   "execution_count": null,
   "metadata": {
    "collapsed": true
   },
   "outputs": [],
   "source": []
  }
 ],
 "metadata": {
  "kernelspec": {
   "display_name": "Python 2",
   "language": "python",
   "name": "python2"
  },
  "language_info": {
   "codemirror_mode": {
    "name": "ipython",
    "version": 2
   },
   "file_extension": ".py",
   "mimetype": "text/x-python",
   "name": "python",
   "nbconvert_exporter": "python",
   "pygments_lexer": "ipython2",
   "version": "2.7.13"
  }
 },
 "nbformat": 4,
 "nbformat_minor": 2
}
