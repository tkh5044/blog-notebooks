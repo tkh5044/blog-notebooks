{
 "cells": [
  {
   "cell_type": "code",
   "execution_count": 2,
   "metadata": {
    "collapsed": true
   },
   "outputs": [],
   "source": [
    "import requests\n",
    "from bs4 import BeautifulSoup"
   ]
  },
  {
   "cell_type": "code",
   "execution_count": 3,
   "metadata": {
    "collapsed": true
   },
   "outputs": [],
   "source": [
    "song_titles = [\n",
    "    'wesleys-theory',\n",
    "    'for-free-interlude',\n",
    "    'king-kunta',\n",
    "    'institutionalized',\n",
    "    'these-walls',\n",
    "    'u',\n",
    "    'alright',\n",
    "    'for-sale-interlude',\n",
    "    'momma',\n",
    "    'hood politics',\n",
    "    'how-much-a-dollar-cost',\n",
    "    'complexion-a-zulu-love',\n",
    "    'the-blacker-the-berry',\n",
    "    'you-aint-gotta-lie-momma-said',\n",
    "    'i',\n",
    "    'mortal-man'\n",
    "]"
   ]
  },
  {
   "cell_type": "code",
   "execution_count": 4,
   "metadata": {
    "collapsed": true
   },
   "outputs": [],
   "source": [
    "from time import sleep"
   ]
  },
  {
   "cell_type": "code",
   "execution_count": 5,
   "metadata": {
    "collapsed": false
   },
   "outputs": [],
   "source": [
    "butterfly = []\n",
    "for i in song_titles:\n",
    "    url = 'https://genius.com/Kendrick-lamar-' + i + '-lyrics'\n",
    "    html = requests.get(url)\n",
    "    soup = BeautifulSoup(html.text, 'html.parser')\n",
    "    butterfly.append(soup.find('p').text)\n",
    "    sleep(1)"
   ]
  },
  {
   "cell_type": "code",
   "execution_count": 16,
   "metadata": {
    "collapsed": true
   },
   "outputs": [],
   "source": [
    "import pandas as pd"
   ]
  },
  {
   "cell_type": "code",
   "execution_count": 17,
   "metadata": {
    "collapsed": true
   },
   "outputs": [],
   "source": [
    "TPAB = pd.DataFrame(columns=['song', 'lyrics'])\n",
    "TPAB.song = song_titles\n",
    "TPAB.lyrics = butterfly\n",
    "TPAB.lyrics = TPAB.lyrics.str.encode('utf-8').astype(str).str.replace('\\n', ' ')"
   ]
  },
  {
   "cell_type": "code",
   "execution_count": 24,
   "metadata": {
    "collapsed": true
   },
   "outputs": [],
   "source": [
    "pd.options.display.max_colwidth = 100"
   ]
  },
  {
   "cell_type": "code",
   "execution_count": 25,
   "metadata": {
    "collapsed": false
   },
   "outputs": [
    {
     "data": {
      "text/html": [
       "<div>\n",
       "<table border=\"1\" class=\"dataframe\">\n",
       "  <thead>\n",
       "    <tr style=\"text-align: right;\">\n",
       "      <th></th>\n",
       "      <th>song</th>\n",
       "      <th>lyrics</th>\n",
       "    </tr>\n",
       "  </thead>\n",
       "  <tbody>\n",
       "    <tr>\n",
       "      <th>0</th>\n",
       "      <td>wesleys-theory</td>\n",
       "      <td>[Produced by Flying Lotus &amp; Ronald \"Flippa\" Colson Additional production by Sounwave &amp; Thunderca...</td>\n",
       "    </tr>\n",
       "    <tr>\n",
       "      <th>1</th>\n",
       "      <td>for-free-interlude</td>\n",
       "      <td>[Produced by Terrace Martin]  [Intro: Darlene Tibbs] Fuck you, motherfucker, you a ho-ass nigga ...</td>\n",
       "    </tr>\n",
       "    <tr>\n",
       "      <th>2</th>\n",
       "      <td>king-kunta</td>\n",
       "      <td>[Produced by Sounwave; Additional production by Terrace Martin]  [Intro] I got a bone to pick I ...</td>\n",
       "    </tr>\n",
       "    <tr>\n",
       "      <th>3</th>\n",
       "      <td>institutionalized</td>\n",
       "      <td>[Produced by Rahki &amp; Tommy Black]  [Intro: Kendrick Lamar] What money got to do with it When I d...</td>\n",
       "    </tr>\n",
       "    <tr>\n",
       "      <th>4</th>\n",
       "      <td>these-walls</td>\n",
       "      <td>[Produced by Terrace Martin &amp; Larrance Dopson; Additional production by Sounwave] [Directed by C...</td>\n",
       "    </tr>\n",
       "  </tbody>\n",
       "</table>\n",
       "</div>"
      ],
      "text/plain": [
       "                 song  \\\n",
       "0      wesleys-theory   \n",
       "1  for-free-interlude   \n",
       "2          king-kunta   \n",
       "3   institutionalized   \n",
       "4         these-walls   \n",
       "\n",
       "                                                                                                lyrics  \n",
       "0  [Produced by Flying Lotus & Ronald \"Flippa\" Colson Additional production by Sounwave & Thunderca...  \n",
       "1  [Produced by Terrace Martin]  [Intro: Darlene Tibbs] Fuck you, motherfucker, you a ho-ass nigga ...  \n",
       "2  [Produced by Sounwave; Additional production by Terrace Martin]  [Intro] I got a bone to pick I ...  \n",
       "3  [Produced by Rahki & Tommy Black]  [Intro: Kendrick Lamar] What money got to do with it When I d...  \n",
       "4  [Produced by Terrace Martin & Larrance Dopson; Additional production by Sounwave] [Directed by C...  "
      ]
     },
     "execution_count": 25,
     "metadata": {},
     "output_type": "execute_result"
    }
   ],
   "source": [
    "TPAB.head()"
   ]
  },
  {
   "cell_type": "code",
   "execution_count": 26,
   "metadata": {
    "collapsed": true
   },
   "outputs": [],
   "source": [
    "damn = pd.DataFrame(columns=['song', 'lyrics'])"
   ]
  },
  {
   "cell_type": "code",
   "execution_count": 27,
   "metadata": {
    "collapsed": true
   },
   "outputs": [],
   "source": [
    "damn_songs = [\n",
    "    'blood',\n",
    "    'dna',\n",
    "    'yah', \n",
    "    'element',\n",
    "    'feel',\n",
    "    'loyalty',\n",
    "    'pride',\n",
    "    'humble',\n",
    "    'lust',\n",
    "    'love',\n",
    "    'xxx',\n",
    "    'fear',\n",
    "    'god',\n",
    "    'duckworth'\n",
    "]"
   ]
  },
  {
   "cell_type": "code",
   "execution_count": 91,
   "metadata": {
    "collapsed": false
   },
   "outputs": [],
   "source": [
    "damn_lyrics = []\n",
    "for i in damn_songs:\n",
    "    url = 'https://genius.com/Kendrick-lamar-' + i + '-lyrics'\n",
    "    html = requests.get(url)\n",
    "    soup = BeautifulSoup(html.text, 'html.parser')\n",
    "    damn_lyrics.append(soup.find('p').text)\n",
    "    sleep(1)"
   ]
  },
  {
   "cell_type": "code",
   "execution_count": 92,
   "metadata": {
    "collapsed": false
   },
   "outputs": [],
   "source": [
    "damn.song = damn_songs\n",
    "damn.lyrics = damn_lyrics\n",
    "damn.lyrics = damn.lyrics.str.encode('utf-8').astype(str).str.replace(\"'\", '')"
   ]
  },
  {
   "cell_type": "code",
   "execution_count": 93,
   "metadata": {
    "collapsed": true
   },
   "outputs": [],
   "source": [
    "import re"
   ]
  },
  {
   "cell_type": "code",
   "execution_count": 94,
   "metadata": {
    "collapsed": false
   },
   "outputs": [
    {
     "data": {
      "text/plain": [
       "' \\nIs it wickedness?\\nIs it weakness?\\nYou decide\\nAre we gonna live or die?\\n\\n \\nSo I was takin a walk the other day, and I seen a woman\\xe2\\x80\\x94a blind woman\\xe2\\x80\\x94pacin up and down the sidewalk. She seemed to be a bit frustrated, as if she had dropped somethin and havin a hard time findin it. So after watchin her struggle for a while, I decide to go over and lend a helping hand, you know? \"Hello, maam, can I be of any assistance? It seems to me that you have lost something. I would like to help you find it.\" She replied: \"Oh yes, you have lost something. Youve lost... your life.\"\\n\\n{Gunshot}\\n\\n \\nIs it wickedness?\\n\\n \\nLamar stated his views on police brutality with that line in the song, quote: \"And we hate the popo, wanna kill us in the street fo sho\\xe2\\x80\\xa6\"\\nOh please, ugh, I dont like it.'"
      ]
     },
     "execution_count": 94,
     "metadata": {},
     "output_type": "execute_result"
    }
   ],
   "source": [
    "new_lyrics = []\n",
    "for i in damn.lyrics:\n",
    "    new_lyrics.append(re.sub('\\[.+]', ' ', i))\n",
    "new_lyrics[0]"
   ]
  },
  {
   "cell_type": "code",
   "execution_count": 95,
   "metadata": {
    "collapsed": true
   },
   "outputs": [],
   "source": [
    "damn.lyrics = new_lyrics\n",
    "damn.lyrics = damn.lyrics.str.replace('\\n', ' ')"
   ]
  },
  {
   "cell_type": "code",
   "execution_count": null,
   "metadata": {
    "collapsed": true
   },
   "outputs": [],
   "source": [
    "# fix number of words column"
   ]
  },
  {
   "cell_type": "code",
   "execution_count": 101,
   "metadata": {
    "collapsed": false
   },
   "outputs": [
    {
     "data": {
      "text/html": [
       "<div>\n",
       "<table border=\"1\" class=\"dataframe\">\n",
       "  <thead>\n",
       "    <tr style=\"text-align: right;\">\n",
       "      <th></th>\n",
       "      <th>song</th>\n",
       "      <th>lyrics</th>\n",
       "      <th>num_of_words</th>\n",
       "    </tr>\n",
       "  </thead>\n",
       "  <tbody>\n",
       "    <tr>\n",
       "      <th>0</th>\n",
       "      <td>blood</td>\n",
       "      <td>Is it wickedness? Is it weakness? You decide Are we gonna live or die?    So I was takin a wal...</td>\n",
       "      <td>14</td>\n",
       "    </tr>\n",
       "    <tr>\n",
       "      <th>1</th>\n",
       "      <td>dna</td>\n",
       "      <td>I got, I got, I got, I got Loyalty, got royalty inside my DNA Cocaine quarter piece, got war a...</td>\n",
       "      <td>14</td>\n",
       "    </tr>\n",
       "    <tr>\n",
       "      <th>2</th>\n",
       "      <td>yah</td>\n",
       "      <td>New shit, new Kung Fu Kenny    I got so many theories and suspicions Im diagnosed with real ni...</td>\n",
       "      <td>14</td>\n",
       "    </tr>\n",
       "    <tr>\n",
       "      <th>3</th>\n",
       "      <td>element</td>\n",
       "      <td>New Kung Fu Kenny Aint nobody prayin for me Yall know, what happens on Earth stays on Earth He...</td>\n",
       "      <td>14</td>\n",
       "    </tr>\n",
       "    <tr>\n",
       "      <th>4</th>\n",
       "      <td>feel</td>\n",
       "      <td>Aint nobody prayin for me Aint nobody prayin for me Aint nobody prayin for me Aint nobody pray...</td>\n",
       "      <td>14</td>\n",
       "    </tr>\n",
       "  </tbody>\n",
       "</table>\n",
       "</div>"
      ],
      "text/plain": [
       "      song  \\\n",
       "0    blood   \n",
       "1      dna   \n",
       "2      yah   \n",
       "3  element   \n",
       "4     feel   \n",
       "\n",
       "                                                                                                lyrics  \\\n",
       "0    Is it wickedness? Is it weakness? You decide Are we gonna live or die?    So I was takin a wal...   \n",
       "1    I got, I got, I got, I got Loyalty, got royalty inside my DNA Cocaine quarter piece, got war a...   \n",
       "2    New shit, new Kung Fu Kenny    I got so many theories and suspicions Im diagnosed with real ni...   \n",
       "3    New Kung Fu Kenny Aint nobody prayin for me Yall know, what happens on Earth stays on Earth He...   \n",
       "4    Aint nobody prayin for me Aint nobody prayin for me Aint nobody prayin for me Aint nobody pray...   \n",
       "\n",
       "   num_of_words  \n",
       "0            14  \n",
       "1            14  \n",
       "2            14  \n",
       "3            14  \n",
       "4            14  "
      ]
     },
     "execution_count": 101,
     "metadata": {},
     "output_type": "execute_result"
    }
   ],
   "source": [
    "damn.head()"
   ]
  },
  {
   "cell_type": "code",
   "execution_count": 97,
   "metadata": {
    "collapsed": false
   },
   "outputs": [
    {
     "data": {
      "text/plain": [
       "1554"
      ]
     },
     "execution_count": 97,
     "metadata": {},
     "output_type": "execute_result"
    }
   ],
   "source": [
    "from sklearn.feature_extraction.text import CountVectorizer\n",
    "cv = CountVectorizer(stop_words='english')\n",
    "cv.fit(damn.lyrics)\n",
    "len(cv.get_feature_names())"
   ]
  },
  {
   "cell_type": "code",
   "execution_count": 98,
   "metadata": {
    "collapsed": true
   },
   "outputs": [],
   "source": [
    "damn_words = pd.DataFrame(cv.transform(damn.lyrics).todense(), columns=cv.get_feature_names())"
   ]
  },
  {
   "cell_type": "code",
   "execution_count": 99,
   "metadata": {
    "collapsed": false
   },
   "outputs": [
    {
     "data": {
      "text/plain": [
       "like       93\n",
       "feel       71\n",
       "im         67\n",
       "hol        67\n",
       "bitch      56\n",
       "dont       49\n",
       "got        46\n",
       "yah        43\n",
       "aint       38\n",
       "yeah       38\n",
       "just       37\n",
       "loyalty    37\n",
       "know       31\n",
       "way        29\n",
       "make       28\n",
       "ill        28\n",
       "die        27\n",
       "ayy        27\n",
       "nigga      26\n",
       "shit       26\n",
       "dtype: int64"
      ]
     },
     "execution_count": 99,
     "metadata": {},
     "output_type": "execute_result"
    }
   ],
   "source": [
    "word_counts = damn_words.sum(axis=0)\n",
    "word_counts.sort_values(ascending = False).head(20)"
   ]
  },
  {
   "cell_type": "code",
   "execution_count": null,
   "metadata": {
    "collapsed": true
   },
   "outputs": [],
   "source": []
  }
 ],
 "metadata": {
  "kernelspec": {
   "display_name": "Python 2",
   "language": "python",
   "name": "python2"
  },
  "language_info": {
   "codemirror_mode": {
    "name": "ipython",
    "version": 2
   },
   "file_extension": ".py",
   "mimetype": "text/x-python",
   "name": "python",
   "nbconvert_exporter": "python",
   "pygments_lexer": "ipython2",
   "version": "2.7.13"
  }
 },
 "nbformat": 4,
 "nbformat_minor": 2
}
