{
 "cells": [
  {
   "cell_type": "code",
   "execution_count": 1,
   "metadata": {
    "collapsed": true
   },
   "outputs": [],
   "source": [
    "import requests\n",
    "from bs4 import BeautifulSoup\n",
    "from time import sleep\n",
    "import pandas as pd\n",
    "import re"
   ]
  },
  {
   "cell_type": "code",
   "execution_count": 18,
   "metadata": {
    "collapsed": false
   },
   "outputs": [],
   "source": [
    "def get_lyrics(songs, filename):\n",
    "    lyrics = []\n",
    "    for i in songs:\n",
    "        url = 'https://genius.com/Kendrick-lamar-' + i + '-lyrics'\n",
    "        html = requests.get(url)\n",
    "        soup = BeautifulSoup(html.text, 'html.parser')\n",
    "        lyrics.append(soup.find('p').text)\n",
    "        sleep(1)\n",
    "        \n",
    "    df = pd.DataFrame(columns=['song', 'lyrics'])\n",
    "    df.song = songs\n",
    "    df.lyrics = lyrics\n",
    "    df.lyrics = df.lyrics.str.encode('utf-8').astype(str)\n",
    "    \n",
    "    new_lyrics = []\n",
    "    for i in df.lyrics:\n",
    "        new_lyrics.append(re.sub('\\[.+]', '', i))\n",
    "    df.lyrics = new_lyrics\n",
    "    df.lyrics = df.lyrics.str.replace('\\n', ' ').str.replace(\"'\", '')\n",
    "    \n",
    "    df.to_csv(filename + '.csv', index=False, encoding='utf-8')"
   ]
  },
  {
   "cell_type": "code",
   "execution_count": 19,
   "metadata": {
    "collapsed": true
   },
   "outputs": [],
   "source": [
    "butterfly_songs = [\n",
    "    'wesleys-theory',\n",
    "    'for-free-interlude',\n",
    "    'king-kunta',\n",
    "    'institutionalized',\n",
    "    'these-walls',\n",
    "    'u',\n",
    "    'alright',\n",
    "    'for-sale-interlude',\n",
    "    'momma',\n",
    "    'hood-politics',\n",
    "    'how-much-a-dollar-cost',\n",
    "    'complexion-a-zulu-love',\n",
    "    'the-blacker-the-berry',\n",
    "    'you-aint-gotta-lie-momma-said',\n",
    "    'i',\n",
    "    'mortal-man'\n",
    "]"
   ]
  },
  {
   "cell_type": "code",
   "execution_count": 20,
   "metadata": {
    "collapsed": false
   },
   "outputs": [],
   "source": [
    "get_lyrics(butterfly_songs, 'tpab')"
   ]
  },
  {
   "cell_type": "code",
   "execution_count": 21,
   "metadata": {
    "collapsed": true
   },
   "outputs": [],
   "source": [
    "tpab = pd.read_csv('tpab.csv')"
   ]
  },
  {
   "cell_type": "code",
   "execution_count": 22,
   "metadata": {
    "collapsed": true
   },
   "outputs": [],
   "source": [
    "pd.options.display.max_colwidth = 200"
   ]
  },
  {
   "cell_type": "code",
   "execution_count": 23,
   "metadata": {
    "collapsed": false
   },
   "outputs": [
    {
     "data": {
      "text/html": [
       "<div>\n",
       "<table border=\"1\" class=\"dataframe\">\n",
       "  <thead>\n",
       "    <tr style=\"text-align: right;\">\n",
       "      <th></th>\n",
       "      <th>song</th>\n",
       "      <th>lyrics</th>\n",
       "    </tr>\n",
       "  </thead>\n",
       "  <tbody>\n",
       "    <tr>\n",
       "      <th>0</th>\n",
       "      <td>wesleys-theory</td>\n",
       "      <td>[Produced by Flying Lotus &amp; Ronald \"Flippa\" Colson Additional production by Sounwave &amp; Thundercat]   Every nigga is a star, ay, every nigga is a star Every nigga is a star, ay, every nigga is a st...</td>\n",
       "    </tr>\n",
       "    <tr>\n",
       "      <th>1</th>\n",
       "      <td>for-free-interlude</td>\n",
       "      <td>Fuck you, motherfucker, you a ho-ass nigga I dont know why you trying to go big, nigga you aint shit. Walking around like you Gods gift to Earth, nigga you aint shit You aint even buy me no out...</td>\n",
       "    </tr>\n",
       "    <tr>\n",
       "      <th>2</th>\n",
       "      <td>king-kunta</td>\n",
       "      <td>I got a bone to pick I dont want you monkey-mouth motherfuckers Sittin in my throne again Ayy, ayy, nigga whats happenin? K-Dot back in the hood, nigga! Im mad (He mad!), but I aint stressin Tr...</td>\n",
       "    </tr>\n",
       "    <tr>\n",
       "      <th>3</th>\n",
       "      <td>institutionalized</td>\n",
       "      <td>What money got to do with it When I dont know the full definition of a rap image? Im trapped inside the ghetto and I aint proud to admit it Institutionalized, I keep runnin back for a visit Hol...</td>\n",
       "    </tr>\n",
       "    <tr>\n",
       "      <th>4</th>\n",
       "      <td>these-walls</td>\n",
       "      <td>I remember you was conflicted, misusing your influence Sometimes, I did the same  If these walls could talk If these walls could talk If these walls could talk If these walls could talk If the...</td>\n",
       "    </tr>\n",
       "    <tr>\n",
       "      <th>5</th>\n",
       "      <td>u</td>\n",
       "      <td>Loving you is complicated, loving you is complicated Loving you is complicated, loving you is complicated Loving you is complicated, loving you is complicated Loving you is complicated, lovin...</td>\n",
       "    </tr>\n",
       "    <tr>\n",
       "      <th>6</th>\n",
       "      <td>alright</td>\n",
       "      <td>Alls my life I has to fight, nigga Alls my life I... Hard times like, \"God!\" Bad trips like, \"Yeah!\" Nazareth, Im fucked up Homie, you fucked up But if God got us, then we gon be alright   Nig...</td>\n",
       "    </tr>\n",
       "    <tr>\n",
       "      <th>7</th>\n",
       "      <td>for-sale-interlude</td>\n",
       "      <td>Oh, oh, oh, ohhhh, ohh, ohh Oh, oh, oh, ohhhh, ohh, ohh Breathing Whats wrong, nigga? I thought you was keeping it gangsta I thought this what you wanted They say if you scared, go to church But ...</td>\n",
       "    </tr>\n",
       "    <tr>\n",
       "      <th>8</th>\n",
       "      <td>momma</td>\n",
       "      <td>Oh shit! Oh, I need that. I need that sloppy. That sloppy. Like a Chevy in quicksand. Yeah. That sloppy   This feelin is unmatched This feelin is brought to you by adrenaline and good rap Black...</td>\n",
       "    </tr>\n",
       "    <tr>\n",
       "      <th>9</th>\n",
       "      <td>hood-politics</td>\n",
       "      <td>K-Dot, pick up the phone, nigga Every time I call, its going to voicemail Dont tell me they got you on some weirdo rap shit, nigga No socks and skinny jeans and shit, ha Ha ha ha ha ha ha hahah...</td>\n",
       "    </tr>\n",
       "    <tr>\n",
       "      <th>10</th>\n",
       "      <td>how-much-a-dollar-cost</td>\n",
       "      <td>How much a dollar really cost? The question is detrimental, paralyzin my thoughts Parasites in my stomach keep me with a gut feeling, yall Gotta see how I’m chillin once I park this luxury car ...</td>\n",
       "    </tr>\n",
       "    <tr>\n",
       "      <th>11</th>\n",
       "      <td>complexion-a-zulu-love</td>\n",
       "      <td>(Im with this)   Complexion (two-step) Complexion dont mean a thing (its a Zulu love) Complexion (two-step) It all feels the same (its a Zulu love)   Dark as the midnight hour or bright as the ...</td>\n",
       "    </tr>\n",
       "    <tr>\n",
       "      <th>12</th>\n",
       "      <td>the-blacker-the-berry</td>\n",
       "      <td>Everything black, I dont want black (They want us to bow) I want everything black, I aint need black (Down to our knees) Some white, some black, I aint mean black (And pray to a God) I want eve...</td>\n",
       "    </tr>\n",
       "    <tr>\n",
       "      <th>13</th>\n",
       "      <td>you-aint-gotta-lie-momma-said</td>\n",
       "      <td>Study long, study wrong, nigga Hey, yall close that front door, yall let flies in this motherfucker Close that door! My OG up in this motherfucker right now My pops man with the bottle of Henne...</td>\n",
       "    </tr>\n",
       "    <tr>\n",
       "      <th>14</th>\n",
       "      <td>i</td>\n",
       "      <td>​​​​​​​​​​​​​​​​​​​    Is this mic on? (Hey, move this way, this way) Hey, Hey! Hey! Turn the mic up, cmon, cmon Is the mic on or not? I want the mic Were bringing up nobody, nobody... Nobody but ...</td>\n",
       "    </tr>\n",
       "    <tr>\n",
       "      <th>15</th>\n",
       "      <td>mortal-man</td>\n",
       "      <td>The ghost of Mandela, hope my flows they propel it Let these words be your earth and moon You consume every message As I lead this army make room for mistakes and depression And with that being...</td>\n",
       "    </tr>\n",
       "  </tbody>\n",
       "</table>\n",
       "</div>"
      ],
      "text/plain": [
       "                             song  \\\n",
       "0                  wesleys-theory   \n",
       "1              for-free-interlude   \n",
       "2                      king-kunta   \n",
       "3               institutionalized   \n",
       "4                     these-walls   \n",
       "5                               u   \n",
       "6                         alright   \n",
       "7              for-sale-interlude   \n",
       "8                           momma   \n",
       "9                   hood-politics   \n",
       "10         how-much-a-dollar-cost   \n",
       "11         complexion-a-zulu-love   \n",
       "12          the-blacker-the-berry   \n",
       "13  you-aint-gotta-lie-momma-said   \n",
       "14                              i   \n",
       "15                     mortal-man   \n",
       "\n",
       "                                                                                                                                                                                                     lyrics  \n",
       "0   [Produced by Flying Lotus & Ronald \"Flippa\" Colson Additional production by Sounwave & Thundercat]   Every nigga is a star, ay, every nigga is a star Every nigga is a star, ay, every nigga is a st...  \n",
       "1      Fuck you, motherfucker, you a ho-ass nigga I dont know why you trying to go big, nigga you aint shit. Walking around like you Gods gift to Earth, nigga you aint shit You aint even buy me no out...  \n",
       "2      I got a bone to pick I dont want you monkey-mouth motherfuckers Sittin in my throne again Ayy, ayy, nigga whats happenin? K-Dot back in the hood, nigga! Im mad (He mad!), but I aint stressin Tr...  \n",
       "3      What money got to do with it When I dont know the full definition of a rap image? Im trapped inside the ghetto and I aint proud to admit it Institutionalized, I keep runnin back for a visit Hol...  \n",
       "4       I remember you was conflicted, misusing your influence Sometimes, I did the same  If these walls could talk If these walls could talk If these walls could talk If these walls could talk If the...  \n",
       "5        Loving you is complicated, loving you is complicated Loving you is complicated, loving you is complicated Loving you is complicated, loving you is complicated Loving you is complicated, lovin...  \n",
       "6       Alls my life I has to fight, nigga Alls my life I... Hard times like, \"God!\" Bad trips like, \"Yeah!\" Nazareth, Im fucked up Homie, you fucked up But if God got us, then we gon be alright   Nig...  \n",
       "7    Oh, oh, oh, ohhhh, ohh, ohh Oh, oh, oh, ohhhh, ohh, ohh Breathing Whats wrong, nigga? I thought you was keeping it gangsta I thought this what you wanted They say if you scared, go to church But ...  \n",
       "8      Oh shit! Oh, I need that. I need that sloppy. That sloppy. Like a Chevy in quicksand. Yeah. That sloppy   This feelin is unmatched This feelin is brought to you by adrenaline and good rap Black...  \n",
       "9      K-Dot, pick up the phone, nigga Every time I call, its going to voicemail Dont tell me they got you on some weirdo rap shit, nigga No socks and skinny jeans and shit, ha Ha ha ha ha ha ha hahah...  \n",
       "10     How much a dollar really cost? The question is detrimental, paralyzin my thoughts Parasites in my stomach keep me with a gut feeling, yall Gotta see how I’m chillin once I park this luxury car ...  \n",
       "11     (Im with this)   Complexion (two-step) Complexion dont mean a thing (its a Zulu love) Complexion (two-step) It all feels the same (its a Zulu love)   Dark as the midnight hour or bright as the ...  \n",
       "12     Everything black, I dont want black (They want us to bow) I want everything black, I aint need black (Down to our knees) Some white, some black, I aint mean black (And pray to a God) I want eve...  \n",
       "13     Study long, study wrong, nigga Hey, yall close that front door, yall let flies in this motherfucker Close that door! My OG up in this motherfucker right now My pops man with the bottle of Henne...  \n",
       "14  ​​​​​​​​​​​​​​​​​​​    Is this mic on? (Hey, move this way, this way) Hey, Hey! Hey! Turn the mic up, cmon, cmon Is the mic on or not? I want the mic Were bringing up nobody, nobody... Nobody but ...  \n",
       "15     The ghost of Mandela, hope my flows they propel it Let these words be your earth and moon You consume every message As I lead this army make room for mistakes and depression And with that being...  "
      ]
     },
     "execution_count": 23,
     "metadata": {},
     "output_type": "execute_result"
    }
   ],
   "source": [
    "tpab"
   ]
  },
  {
   "cell_type": "code",
   "execution_count": 33,
   "metadata": {
    "collapsed": false
   },
   "outputs": [],
   "source": [
    "for i in tpab.lyrics:\n",
    "    if '[' in i:\n",
    "        print i"
   ]
  },
  {
   "cell_type": "code",
   "execution_count": 26,
   "metadata": {
    "collapsed": false
   },
   "outputs": [],
   "source": [
    "tpab.lyrics[0] = re.sub('\\[.+]', '', tpab.lyrics[0])"
   ]
  },
  {
   "cell_type": "code",
   "execution_count": 28,
   "metadata": {
    "collapsed": false
   },
   "outputs": [],
   "source": [
    "def get_word_count(df):\n",
    "    num_of_words = []\n",
    "    for i in df.lyrics:\n",
    "        num_of_words.append(len(i.split()))\n",
    "    df['num_of_words'] = num_of_words"
   ]
  },
  {
   "cell_type": "code",
   "execution_count": 29,
   "metadata": {
    "collapsed": false
   },
   "outputs": [
    {
     "data": {
      "text/html": [
       "<div>\n",
       "<table border=\"1\" class=\"dataframe\">\n",
       "  <thead>\n",
       "    <tr style=\"text-align: right;\">\n",
       "      <th></th>\n",
       "      <th>song</th>\n",
       "      <th>lyrics</th>\n",
       "      <th>num_of_words</th>\n",
       "    </tr>\n",
       "  </thead>\n",
       "  <tbody>\n",
       "    <tr>\n",
       "      <th>0</th>\n",
       "      <td>wesleys-theory</td>\n",
       "      <td>Every nigga is a star, ay, every nigga is a star Every nigga is a star, ay, every nigga is a star Every nigga is a star, ay Who will deny that you and I and every nigga is a star?   Hit me! Whe...</td>\n",
       "      <td>674</td>\n",
       "    </tr>\n",
       "    <tr>\n",
       "      <th>1</th>\n",
       "      <td>for-free-interlude</td>\n",
       "      <td>Fuck you, motherfucker, you a ho-ass nigga I dont know why you trying to go big, nigga you aint shit. Walking around like you Gods gift to Earth, nigga you aint shit You aint even buy me no out...</td>\n",
       "      <td>403</td>\n",
       "    </tr>\n",
       "    <tr>\n",
       "      <th>2</th>\n",
       "      <td>king-kunta</td>\n",
       "      <td>I got a bone to pick I dont want you monkey-mouth motherfuckers Sittin in my throne again Ayy, ayy, nigga whats happenin? K-Dot back in the hood, nigga! Im mad (He mad!), but I aint stressin Tr...</td>\n",
       "      <td>696</td>\n",
       "    </tr>\n",
       "    <tr>\n",
       "      <th>3</th>\n",
       "      <td>institutionalized</td>\n",
       "      <td>What money got to do with it When I dont know the full definition of a rap image? Im trapped inside the ghetto and I aint proud to admit it Institutionalized, I keep runnin back for a visit Hol...</td>\n",
       "      <td>661</td>\n",
       "    </tr>\n",
       "    <tr>\n",
       "      <th>4</th>\n",
       "      <td>these-walls</td>\n",
       "      <td>I remember you was conflicted, misusing your influence Sometimes, I did the same  If these walls could talk If these walls could talk If these walls could talk If these walls could talk If the...</td>\n",
       "      <td>688</td>\n",
       "    </tr>\n",
       "    <tr>\n",
       "      <th>5</th>\n",
       "      <td>u</td>\n",
       "      <td>Loving you is complicated, loving you is complicated Loving you is complicated, loving you is complicated Loving you is complicated, loving you is complicated Loving you is complicated, lovin...</td>\n",
       "      <td>626</td>\n",
       "    </tr>\n",
       "    <tr>\n",
       "      <th>6</th>\n",
       "      <td>alright</td>\n",
       "      <td>Alls my life I has to fight, nigga Alls my life I... Hard times like, \"God!\" Bad trips like, \"Yeah!\" Nazareth, Im fucked up Homie, you fucked up But if God got us, then we gon be alright   Nig...</td>\n",
       "      <td>702</td>\n",
       "    </tr>\n",
       "    <tr>\n",
       "      <th>7</th>\n",
       "      <td>for-sale-interlude</td>\n",
       "      <td>Oh, oh, oh, ohhhh, ohh, ohh Oh, oh, oh, ohhhh, ohh, ohh Breathing Whats wrong, nigga? I thought you was keeping it gangsta I thought this what you wanted They say if you scared, go to church But ...</td>\n",
       "      <td>543</td>\n",
       "    </tr>\n",
       "    <tr>\n",
       "      <th>8</th>\n",
       "      <td>momma</td>\n",
       "      <td>Oh shit! Oh, I need that. I need that sloppy. That sloppy. Like a Chevy in quicksand. Yeah. That sloppy   This feelin is unmatched This feelin is brought to you by adrenaline and good rap Black...</td>\n",
       "      <td>831</td>\n",
       "    </tr>\n",
       "    <tr>\n",
       "      <th>9</th>\n",
       "      <td>hood-politics</td>\n",
       "      <td>K-Dot, pick up the phone, nigga Every time I call, its going to voicemail Dont tell me they got you on some weirdo rap shit, nigga No socks and skinny jeans and shit, ha Ha ha ha ha ha ha hahah...</td>\n",
       "      <td>840</td>\n",
       "    </tr>\n",
       "    <tr>\n",
       "      <th>10</th>\n",
       "      <td>how-much-a-dollar-cost</td>\n",
       "      <td>How much a dollar really cost? The question is detrimental, paralyzin my thoughts Parasites in my stomach keep me with a gut feeling, yall Gotta see how I’m chillin once I park this luxury car ...</td>\n",
       "      <td>712</td>\n",
       "    </tr>\n",
       "    <tr>\n",
       "      <th>11</th>\n",
       "      <td>complexion-a-zulu-love</td>\n",
       "      <td>(Im with this)   Complexion (two-step) Complexion dont mean a thing (its a Zulu love) Complexion (two-step) It all feels the same (its a Zulu love)   Dark as the midnight hour or bright as the ...</td>\n",
       "      <td>642</td>\n",
       "    </tr>\n",
       "    <tr>\n",
       "      <th>12</th>\n",
       "      <td>the-blacker-the-berry</td>\n",
       "      <td>Everything black, I dont want black (They want us to bow) I want everything black, I aint need black (Down to our knees) Some white, some black, I aint mean black (And pray to a God) I want eve...</td>\n",
       "      <td>922</td>\n",
       "    </tr>\n",
       "    <tr>\n",
       "      <th>13</th>\n",
       "      <td>you-aint-gotta-lie-momma-said</td>\n",
       "      <td>Study long, study wrong, nigga Hey, yall close that front door, yall let flies in this motherfucker Close that door! My OG up in this motherfucker right now My pops man with the bottle of Henne...</td>\n",
       "      <td>658</td>\n",
       "    </tr>\n",
       "    <tr>\n",
       "      <th>14</th>\n",
       "      <td>i</td>\n",
       "      <td>​​​​​​​​​​​​​​​​​​​    Is this mic on? (Hey, move this way, this way) Hey, Hey! Hey! Turn the mic up, cmon, cmon Is the mic on or not? I want the mic Were bringing up nobody, nobody... Nobody but ...</td>\n",
       "      <td>1088</td>\n",
       "    </tr>\n",
       "    <tr>\n",
       "      <th>15</th>\n",
       "      <td>mortal-man</td>\n",
       "      <td>The ghost of Mandela, hope my flows they propel it Let these words be your earth and moon You consume every message As I lead this army make room for mistakes and depression And with that being...</td>\n",
       "      <td>927</td>\n",
       "    </tr>\n",
       "  </tbody>\n",
       "</table>\n",
       "</div>"
      ],
      "text/plain": [
       "                             song  \\\n",
       "0                  wesleys-theory   \n",
       "1              for-free-interlude   \n",
       "2                      king-kunta   \n",
       "3               institutionalized   \n",
       "4                     these-walls   \n",
       "5                               u   \n",
       "6                         alright   \n",
       "7              for-sale-interlude   \n",
       "8                           momma   \n",
       "9                   hood-politics   \n",
       "10         how-much-a-dollar-cost   \n",
       "11         complexion-a-zulu-love   \n",
       "12          the-blacker-the-berry   \n",
       "13  you-aint-gotta-lie-momma-said   \n",
       "14                              i   \n",
       "15                     mortal-man   \n",
       "\n",
       "                                                                                                                                                                                                     lyrics  \\\n",
       "0      Every nigga is a star, ay, every nigga is a star Every nigga is a star, ay, every nigga is a star Every nigga is a star, ay Who will deny that you and I and every nigga is a star?   Hit me! Whe...   \n",
       "1      Fuck you, motherfucker, you a ho-ass nigga I dont know why you trying to go big, nigga you aint shit. Walking around like you Gods gift to Earth, nigga you aint shit You aint even buy me no out...   \n",
       "2      I got a bone to pick I dont want you monkey-mouth motherfuckers Sittin in my throne again Ayy, ayy, nigga whats happenin? K-Dot back in the hood, nigga! Im mad (He mad!), but I aint stressin Tr...   \n",
       "3      What money got to do with it When I dont know the full definition of a rap image? Im trapped inside the ghetto and I aint proud to admit it Institutionalized, I keep runnin back for a visit Hol...   \n",
       "4       I remember you was conflicted, misusing your influence Sometimes, I did the same  If these walls could talk If these walls could talk If these walls could talk If these walls could talk If the...   \n",
       "5        Loving you is complicated, loving you is complicated Loving you is complicated, loving you is complicated Loving you is complicated, loving you is complicated Loving you is complicated, lovin...   \n",
       "6       Alls my life I has to fight, nigga Alls my life I... Hard times like, \"God!\" Bad trips like, \"Yeah!\" Nazareth, Im fucked up Homie, you fucked up But if God got us, then we gon be alright   Nig...   \n",
       "7    Oh, oh, oh, ohhhh, ohh, ohh Oh, oh, oh, ohhhh, ohh, ohh Breathing Whats wrong, nigga? I thought you was keeping it gangsta I thought this what you wanted They say if you scared, go to church But ...   \n",
       "8      Oh shit! Oh, I need that. I need that sloppy. That sloppy. Like a Chevy in quicksand. Yeah. That sloppy   This feelin is unmatched This feelin is brought to you by adrenaline and good rap Black...   \n",
       "9      K-Dot, pick up the phone, nigga Every time I call, its going to voicemail Dont tell me they got you on some weirdo rap shit, nigga No socks and skinny jeans and shit, ha Ha ha ha ha ha ha hahah...   \n",
       "10     How much a dollar really cost? The question is detrimental, paralyzin my thoughts Parasites in my stomach keep me with a gut feeling, yall Gotta see how I’m chillin once I park this luxury car ...   \n",
       "11     (Im with this)   Complexion (two-step) Complexion dont mean a thing (its a Zulu love) Complexion (two-step) It all feels the same (its a Zulu love)   Dark as the midnight hour or bright as the ...   \n",
       "12     Everything black, I dont want black (They want us to bow) I want everything black, I aint need black (Down to our knees) Some white, some black, I aint mean black (And pray to a God) I want eve...   \n",
       "13     Study long, study wrong, nigga Hey, yall close that front door, yall let flies in this motherfucker Close that door! My OG up in this motherfucker right now My pops man with the bottle of Henne...   \n",
       "14  ​​​​​​​​​​​​​​​​​​​    Is this mic on? (Hey, move this way, this way) Hey, Hey! Hey! Turn the mic up, cmon, cmon Is the mic on or not? I want the mic Were bringing up nobody, nobody... Nobody but ...   \n",
       "15     The ghost of Mandela, hope my flows they propel it Let these words be your earth and moon You consume every message As I lead this army make room for mistakes and depression And with that being...   \n",
       "\n",
       "    num_of_words  \n",
       "0            674  \n",
       "1            403  \n",
       "2            696  \n",
       "3            661  \n",
       "4            688  \n",
       "5            626  \n",
       "6            702  \n",
       "7            543  \n",
       "8            831  \n",
       "9            840  \n",
       "10           712  \n",
       "11           642  \n",
       "12           922  \n",
       "13           658  \n",
       "14          1088  \n",
       "15           927  "
      ]
     },
     "execution_count": 29,
     "metadata": {},
     "output_type": "execute_result"
    }
   ],
   "source": [
    "get_word_count(tpab)\n",
    "tpab"
   ]
  },
  {
   "cell_type": "markdown",
   "metadata": {
    "collapsed": true
   },
   "source": [
    "### DAMN."
   ]
  },
  {
   "cell_type": "code",
   "execution_count": 30,
   "metadata": {
    "collapsed": true
   },
   "outputs": [],
   "source": [
    "damn_songs = [\n",
    "    'blood',\n",
    "    'dna',\n",
    "    'yah', \n",
    "    'element',\n",
    "    'feel',\n",
    "    'loyalty',\n",
    "    'pride',\n",
    "    'humble',\n",
    "    'lust',\n",
    "    'love',\n",
    "    'xxx',\n",
    "    'fear',\n",
    "    'god',\n",
    "    'duckworth'\n",
    "]"
   ]
  },
  {
   "cell_type": "code",
   "execution_count": 31,
   "metadata": {
    "collapsed": true
   },
   "outputs": [],
   "source": [
    "get_lyrics(damn_songs, 'damn')"
   ]
  },
  {
   "cell_type": "code",
   "execution_count": 32,
   "metadata": {
    "collapsed": false
   },
   "outputs": [
    {
     "data": {
      "text/html": [
       "<div>\n",
       "<table border=\"1\" class=\"dataframe\">\n",
       "  <thead>\n",
       "    <tr style=\"text-align: right;\">\n",
       "      <th></th>\n",
       "      <th>song</th>\n",
       "      <th>lyrics</th>\n",
       "    </tr>\n",
       "  </thead>\n",
       "  <tbody>\n",
       "    <tr>\n",
       "      <th>0</th>\n",
       "      <td>blood</td>\n",
       "      <td>Is it wickedness? Is it weakness? You decide Are we gonna live or die?   So I was takin a walk the other day, and I seen a woman—a blind woman—pacin up and down the sidewalk. She seemed to be a b...</td>\n",
       "    </tr>\n",
       "    <tr>\n",
       "      <th>1</th>\n",
       "      <td>dna</td>\n",
       "      <td>I got, I got, I got, I got Loyalty, got royalty inside my DNA Cocaine quarter piece, got war and peace inside my DNA I got power, poison, pain and joy inside my DNA I got hustle though, ambition,...</td>\n",
       "    </tr>\n",
       "    <tr>\n",
       "      <th>2</th>\n",
       "      <td>yah</td>\n",
       "      <td>New shit, new Kung Fu Kenny   I got so many theories and suspicions Im diagnosed with real nigga conditions Today is the day I follow my intuition Keep the family close—get money, fuck bitches I ...</td>\n",
       "    </tr>\n",
       "    <tr>\n",
       "      <th>3</th>\n",
       "      <td>element</td>\n",
       "      <td>New Kung Fu Kenny Aint nobody prayin for me Yall know, what happens on Earth stays on Earth Here we go! I dont give a fuck, I dont give a fuck I dont give a, I dont give a, I dont give a fuck   I...</td>\n",
       "    </tr>\n",
       "    <tr>\n",
       "      <th>4</th>\n",
       "      <td>feel</td>\n",
       "      <td>Aint nobody prayin for me Aint nobody prayin for me Aint nobody prayin for me Aint nobody prayin for me   I feel like a chip on my shoulders I feel like Im losin my focus I feel like Im losin my ...</td>\n",
       "    </tr>\n",
       "    <tr>\n",
       "      <th>5</th>\n",
       "      <td>loyalty</td>\n",
       "      <td>I said Im geeked and Im fired up (fired, fire) All I want tonight is just to get high up (high, high, high) Girl, you look so good, its to die for (die for) Ooh, that pussy good, its to die for...</td>\n",
       "    </tr>\n",
       "    <tr>\n",
       "      <th>6</th>\n",
       "      <td>pride</td>\n",
       "      <td>Loves gonna get you killed But prides gonna be the death of you and you and me And you and you and you and me And you and you and you and me And you and you and you and me and—   It wasnt all to ...</td>\n",
       "    </tr>\n",
       "    <tr>\n",
       "      <th>7</th>\n",
       "      <td>humble</td>\n",
       "      <td>Wicked or weakness You gotta see this Waaaaay (yeah, yeah!)   Nobody pray for me Its been that day for me Waaaaay (yeah, yeah!)   Ayy, I remember syrup sandwiches and crime allowances Finesse a n...</td>\n",
       "    </tr>\n",
       "    <tr>\n",
       "      <th>8</th>\n",
       "      <td>lust</td>\n",
       "      <td>I need some water Somethin came over me Way too hot to simmer down Might as well overheat Too close to comfort As blood rush my favorite vein Heartbeat racin like a junkies I just need you to wan...</td>\n",
       "    </tr>\n",
       "    <tr>\n",
       "      <th>9</th>\n",
       "      <td>love</td>\n",
       "      <td>Damn, love or lust Damn, all of us   Give me a run for my money There is nobody, no one to outrun me (Another world premiere!) So give me a run for my money Sippin bubbly, feelin lovely, livin lo...</td>\n",
       "    </tr>\n",
       "    <tr>\n",
       "      <th>10</th>\n",
       "      <td>xxx</td>\n",
       "      <td>America, God bless you if its good to you America please take my hand Can you help me underst— New Kung Fu Kenny   Throw a steak off the ark To a pool full of sharks, hell take it Leave him in th...</td>\n",
       "    </tr>\n",
       "    <tr>\n",
       "      <th>11</th>\n",
       "      <td>fear</td>\n",
       "      <td>I dont think I could find a way to make it on this earth Whats up, family? Yeah, its yo cousin Carl, man, just givin you a call, man. I know you been havin a lot on yo mind lately, and I know you...</td>\n",
       "    </tr>\n",
       "    <tr>\n",
       "      <th>12</th>\n",
       "      <td>god</td>\n",
       "      <td>This what God feel like, huh, yeah Laughin to the bank like, \"A-ha!\", huh, yeah Flex on swole like, \"A-ha!\", huh, yeah You feel some type of way, then a-ha! Huh, yeah (a-ha-ha, a-ha-ha)   Ever si...</td>\n",
       "    </tr>\n",
       "    <tr>\n",
       "      <th>13</th>\n",
       "      <td>duckworth</td>\n",
       "      <td>It was always me vs the world Until I found its me vs me Why, why, why, why? Why, why, why, why? Just remember, what happens on Earth stays on Earth! We gon put it in reverse   Darling, I told yo...</td>\n",
       "    </tr>\n",
       "  </tbody>\n",
       "</table>\n",
       "</div>"
      ],
      "text/plain": [
       "         song  \\\n",
       "0       blood   \n",
       "1         dna   \n",
       "2         yah   \n",
       "3     element   \n",
       "4        feel   \n",
       "5     loyalty   \n",
       "6       pride   \n",
       "7      humble   \n",
       "8        lust   \n",
       "9        love   \n",
       "10        xxx   \n",
       "11       fear   \n",
       "12        god   \n",
       "13  duckworth   \n",
       "\n",
       "                                                                                                                                                                                                     lyrics  \n",
       "0    Is it wickedness? Is it weakness? You decide Are we gonna live or die?   So I was takin a walk the other day, and I seen a woman—a blind woman—pacin up and down the sidewalk. She seemed to be a b...  \n",
       "1    I got, I got, I got, I got Loyalty, got royalty inside my DNA Cocaine quarter piece, got war and peace inside my DNA I got power, poison, pain and joy inside my DNA I got hustle though, ambition,...  \n",
       "2    New shit, new Kung Fu Kenny   I got so many theories and suspicions Im diagnosed with real nigga conditions Today is the day I follow my intuition Keep the family close—get money, fuck bitches I ...  \n",
       "3    New Kung Fu Kenny Aint nobody prayin for me Yall know, what happens on Earth stays on Earth Here we go! I dont give a fuck, I dont give a fuck I dont give a, I dont give a, I dont give a fuck   I...  \n",
       "4    Aint nobody prayin for me Aint nobody prayin for me Aint nobody prayin for me Aint nobody prayin for me   I feel like a chip on my shoulders I feel like Im losin my focus I feel like Im losin my ...  \n",
       "5      I said Im geeked and Im fired up (fired, fire) All I want tonight is just to get high up (high, high, high) Girl, you look so good, its to die for (die for) Ooh, that pussy good, its to die for...  \n",
       "6    Loves gonna get you killed But prides gonna be the death of you and you and me And you and you and you and me And you and you and you and me And you and you and you and me and—   It wasnt all to ...  \n",
       "7    Wicked or weakness You gotta see this Waaaaay (yeah, yeah!)   Nobody pray for me Its been that day for me Waaaaay (yeah, yeah!)   Ayy, I remember syrup sandwiches and crime allowances Finesse a n...  \n",
       "8    I need some water Somethin came over me Way too hot to simmer down Might as well overheat Too close to comfort As blood rush my favorite vein Heartbeat racin like a junkies I just need you to wan...  \n",
       "9    Damn, love or lust Damn, all of us   Give me a run for my money There is nobody, no one to outrun me (Another world premiere!) So give me a run for my money Sippin bubbly, feelin lovely, livin lo...  \n",
       "10   America, God bless you if its good to you America please take my hand Can you help me underst— New Kung Fu Kenny   Throw a steak off the ark To a pool full of sharks, hell take it Leave him in th...  \n",
       "11   I dont think I could find a way to make it on this earth Whats up, family? Yeah, its yo cousin Carl, man, just givin you a call, man. I know you been havin a lot on yo mind lately, and I know you...  \n",
       "12   This what God feel like, huh, yeah Laughin to the bank like, \"A-ha!\", huh, yeah Flex on swole like, \"A-ha!\", huh, yeah You feel some type of way, then a-ha! Huh, yeah (a-ha-ha, a-ha-ha)   Ever si...  \n",
       "13   It was always me vs the world Until I found its me vs me Why, why, why, why? Why, why, why, why? Just remember, what happens on Earth stays on Earth! We gon put it in reverse   Darling, I told yo...  "
      ]
     },
     "execution_count": 32,
     "metadata": {},
     "output_type": "execute_result"
    }
   ],
   "source": [
    "damn = pd.read_csv('damn.csv')\n",
    "damn"
   ]
  },
  {
   "cell_type": "code",
   "execution_count": 35,
   "metadata": {
    "collapsed": true
   },
   "outputs": [],
   "source": [
    "for i in damn.lyrics:\n",
    "    if '[' in i:\n",
    "        print i"
   ]
  },
  {
   "cell_type": "code",
   "execution_count": 36,
   "metadata": {
    "collapsed": false
   },
   "outputs": [
    {
     "data": {
      "text/html": [
       "<div>\n",
       "<table border=\"1\" class=\"dataframe\">\n",
       "  <thead>\n",
       "    <tr style=\"text-align: right;\">\n",
       "      <th></th>\n",
       "      <th>song</th>\n",
       "      <th>lyrics</th>\n",
       "      <th>num_of_words</th>\n",
       "    </tr>\n",
       "  </thead>\n",
       "  <tbody>\n",
       "    <tr>\n",
       "      <th>0</th>\n",
       "      <td>blood</td>\n",
       "      <td>Is it wickedness? Is it weakness? You decide Are we gonna live or die?   So I was takin a walk the other day, and I seen a woman—a blind woman—pacin up and down the sidewalk. She seemed to be a b...</td>\n",
       "      <td>150</td>\n",
       "    </tr>\n",
       "    <tr>\n",
       "      <th>1</th>\n",
       "      <td>dna</td>\n",
       "      <td>I got, I got, I got, I got Loyalty, got royalty inside my DNA Cocaine quarter piece, got war and peace inside my DNA I got power, poison, pain and joy inside my DNA I got hustle though, ambition,...</td>\n",
       "      <td>666</td>\n",
       "    </tr>\n",
       "    <tr>\n",
       "      <th>2</th>\n",
       "      <td>yah</td>\n",
       "      <td>New shit, new Kung Fu Kenny   I got so many theories and suspicions Im diagnosed with real nigga conditions Today is the day I follow my intuition Keep the family close—get money, fuck bitches I ...</td>\n",
       "      <td>260</td>\n",
       "    </tr>\n",
       "    <tr>\n",
       "      <th>3</th>\n",
       "      <td>element</td>\n",
       "      <td>New Kung Fu Kenny Aint nobody prayin for me Yall know, what happens on Earth stays on Earth Here we go! I dont give a fuck, I dont give a fuck I dont give a, I dont give a, I dont give a fuck   I...</td>\n",
       "      <td>658</td>\n",
       "    </tr>\n",
       "    <tr>\n",
       "      <th>4</th>\n",
       "      <td>feel</td>\n",
       "      <td>Aint nobody prayin for me Aint nobody prayin for me Aint nobody prayin for me Aint nobody prayin for me   I feel like a chip on my shoulders I feel like Im losin my focus I feel like Im losin my ...</td>\n",
       "      <td>564</td>\n",
       "    </tr>\n",
       "    <tr>\n",
       "      <th>5</th>\n",
       "      <td>loyalty</td>\n",
       "      <td>I said Im geeked and Im fired up (fired, fire) All I want tonight is just to get high up (high, high, high) Girl, you look so good, its to die for (die for) Ooh, that pussy good, its to die for...</td>\n",
       "      <td>545</td>\n",
       "    </tr>\n",
       "    <tr>\n",
       "      <th>6</th>\n",
       "      <td>pride</td>\n",
       "      <td>Loves gonna get you killed But prides gonna be the death of you and you and me And you and you and you and me And you and you and you and me And you and you and you and me and—   It wasnt all to ...</td>\n",
       "      <td>473</td>\n",
       "    </tr>\n",
       "    <tr>\n",
       "      <th>7</th>\n",
       "      <td>humble</td>\n",
       "      <td>Wicked or weakness You gotta see this Waaaaay (yeah, yeah!)   Nobody pray for me Its been that day for me Waaaaay (yeah, yeah!)   Ayy, I remember syrup sandwiches and crime allowances Finesse a n...</td>\n",
       "      <td>609</td>\n",
       "    </tr>\n",
       "    <tr>\n",
       "      <th>8</th>\n",
       "      <td>lust</td>\n",
       "      <td>I need some water Somethin came over me Way too hot to simmer down Might as well overheat Too close to comfort As blood rush my favorite vein Heartbeat racin like a junkies I just need you to wan...</td>\n",
       "      <td>781</td>\n",
       "    </tr>\n",
       "    <tr>\n",
       "      <th>9</th>\n",
       "      <td>love</td>\n",
       "      <td>Damn, love or lust Damn, all of us   Give me a run for my money There is nobody, no one to outrun me (Another world premiere!) So give me a run for my money Sippin bubbly, feelin lovely, livin lo...</td>\n",
       "      <td>540</td>\n",
       "    </tr>\n",
       "    <tr>\n",
       "      <th>10</th>\n",
       "      <td>xxx</td>\n",
       "      <td>America, God bless you if its good to you America please take my hand Can you help me underst— New Kung Fu Kenny   Throw a steak off the ark To a pool full of sharks, hell take it Leave him in th...</td>\n",
       "      <td>621</td>\n",
       "    </tr>\n",
       "    <tr>\n",
       "      <th>11</th>\n",
       "      <td>fear</td>\n",
       "      <td>I dont think I could find a way to make it on this earth Whats up, family? Yeah, its yo cousin Carl, man, just givin you a call, man. I know you been havin a lot on yo mind lately, and I know you...</td>\n",
       "      <td>1281</td>\n",
       "    </tr>\n",
       "    <tr>\n",
       "      <th>12</th>\n",
       "      <td>god</td>\n",
       "      <td>This what God feel like, huh, yeah Laughin to the bank like, \"A-ha!\", huh, yeah Flex on swole like, \"A-ha!\", huh, yeah You feel some type of way, then a-ha! Huh, yeah (a-ha-ha, a-ha-ha)   Ever si...</td>\n",
       "      <td>458</td>\n",
       "    </tr>\n",
       "    <tr>\n",
       "      <th>13</th>\n",
       "      <td>duckworth</td>\n",
       "      <td>It was always me vs the world Until I found its me vs me Why, why, why, why? Why, why, why, why? Just remember, what happens on Earth stays on Earth! We gon put it in reverse   Darling, I told yo...</td>\n",
       "      <td>666</td>\n",
       "    </tr>\n",
       "  </tbody>\n",
       "</table>\n",
       "</div>"
      ],
      "text/plain": [
       "         song  \\\n",
       "0       blood   \n",
       "1         dna   \n",
       "2         yah   \n",
       "3     element   \n",
       "4        feel   \n",
       "5     loyalty   \n",
       "6       pride   \n",
       "7      humble   \n",
       "8        lust   \n",
       "9        love   \n",
       "10        xxx   \n",
       "11       fear   \n",
       "12        god   \n",
       "13  duckworth   \n",
       "\n",
       "                                                                                                                                                                                                     lyrics  \\\n",
       "0    Is it wickedness? Is it weakness? You decide Are we gonna live or die?   So I was takin a walk the other day, and I seen a woman—a blind woman—pacin up and down the sidewalk. She seemed to be a b...   \n",
       "1    I got, I got, I got, I got Loyalty, got royalty inside my DNA Cocaine quarter piece, got war and peace inside my DNA I got power, poison, pain and joy inside my DNA I got hustle though, ambition,...   \n",
       "2    New shit, new Kung Fu Kenny   I got so many theories and suspicions Im diagnosed with real nigga conditions Today is the day I follow my intuition Keep the family close—get money, fuck bitches I ...   \n",
       "3    New Kung Fu Kenny Aint nobody prayin for me Yall know, what happens on Earth stays on Earth Here we go! I dont give a fuck, I dont give a fuck I dont give a, I dont give a, I dont give a fuck   I...   \n",
       "4    Aint nobody prayin for me Aint nobody prayin for me Aint nobody prayin for me Aint nobody prayin for me   I feel like a chip on my shoulders I feel like Im losin my focus I feel like Im losin my ...   \n",
       "5      I said Im geeked and Im fired up (fired, fire) All I want tonight is just to get high up (high, high, high) Girl, you look so good, its to die for (die for) Ooh, that pussy good, its to die for...   \n",
       "6    Loves gonna get you killed But prides gonna be the death of you and you and me And you and you and you and me And you and you and you and me And you and you and you and me and—   It wasnt all to ...   \n",
       "7    Wicked or weakness You gotta see this Waaaaay (yeah, yeah!)   Nobody pray for me Its been that day for me Waaaaay (yeah, yeah!)   Ayy, I remember syrup sandwiches and crime allowances Finesse a n...   \n",
       "8    I need some water Somethin came over me Way too hot to simmer down Might as well overheat Too close to comfort As blood rush my favorite vein Heartbeat racin like a junkies I just need you to wan...   \n",
       "9    Damn, love or lust Damn, all of us   Give me a run for my money There is nobody, no one to outrun me (Another world premiere!) So give me a run for my money Sippin bubbly, feelin lovely, livin lo...   \n",
       "10   America, God bless you if its good to you America please take my hand Can you help me underst— New Kung Fu Kenny   Throw a steak off the ark To a pool full of sharks, hell take it Leave him in th...   \n",
       "11   I dont think I could find a way to make it on this earth Whats up, family? Yeah, its yo cousin Carl, man, just givin you a call, man. I know you been havin a lot on yo mind lately, and I know you...   \n",
       "12   This what God feel like, huh, yeah Laughin to the bank like, \"A-ha!\", huh, yeah Flex on swole like, \"A-ha!\", huh, yeah You feel some type of way, then a-ha! Huh, yeah (a-ha-ha, a-ha-ha)   Ever si...   \n",
       "13   It was always me vs the world Until I found its me vs me Why, why, why, why? Why, why, why, why? Just remember, what happens on Earth stays on Earth! We gon put it in reverse   Darling, I told yo...   \n",
       "\n",
       "    num_of_words  \n",
       "0            150  \n",
       "1            666  \n",
       "2            260  \n",
       "3            658  \n",
       "4            564  \n",
       "5            545  \n",
       "6            473  \n",
       "7            609  \n",
       "8            781  \n",
       "9            540  \n",
       "10           621  \n",
       "11          1281  \n",
       "12           458  \n",
       "13           666  "
      ]
     },
     "execution_count": 36,
     "metadata": {},
     "output_type": "execute_result"
    }
   ],
   "source": [
    "get_word_count(damn)\n",
    "damn"
   ]
  },
  {
   "cell_type": "markdown",
   "metadata": {
    "collapsed": true
   },
   "source": [
    "### Section 80"
   ]
  },
  {
   "cell_type": "code",
   "execution_count": null,
   "metadata": {
    "collapsed": true
   },
   "outputs": [],
   "source": []
  },
  {
   "cell_type": "code",
   "execution_count": null,
   "metadata": {
    "collapsed": true
   },
   "outputs": [],
   "source": []
  },
  {
   "cell_type": "markdown",
   "metadata": {},
   "source": [
    "### Good Kid, Maad City"
   ]
  },
  {
   "cell_type": "code",
   "execution_count": null,
   "metadata": {
    "collapsed": true
   },
   "outputs": [],
   "source": []
  },
  {
   "cell_type": "code",
   "execution_count": null,
   "metadata": {
    "collapsed": true
   },
   "outputs": [],
   "source": []
  },
  {
   "cell_type": "markdown",
   "metadata": {},
   "source": [
    "# Count Vectorization"
   ]
  },
  {
   "cell_type": "code",
   "execution_count": null,
   "metadata": {
    "collapsed": false
   },
   "outputs": [],
   "source": [
    "from sklearn.feature_extraction.text import CountVectorizer\n",
    "cv = CountVectorizer(stop_words='english')\n",
    "cv.fit(damn.lyrics)\n",
    "len(cv.get_feature_names())"
   ]
  },
  {
   "cell_type": "code",
   "execution_count": null,
   "metadata": {
    "collapsed": true
   },
   "outputs": [],
   "source": [
    "damn_words = pd.DataFrame(cv.transform(damn.lyrics).todense(), columns=cv.get_feature_names())"
   ]
  },
  {
   "cell_type": "code",
   "execution_count": null,
   "metadata": {
    "collapsed": false
   },
   "outputs": [],
   "source": [
    "word_counts = damn_words.sum(axis=0)\n",
    "word_counts.sort_values(ascending = False).head(20)"
   ]
  },
  {
   "cell_type": "code",
   "execution_count": null,
   "metadata": {
    "collapsed": true
   },
   "outputs": [],
   "source": []
  }
 ],
 "metadata": {
  "kernelspec": {
   "display_name": "Python 2",
   "language": "python",
   "name": "python2"
  },
  "language_info": {
   "codemirror_mode": {
    "name": "ipython",
    "version": 2
   },
   "file_extension": ".py",
   "mimetype": "text/x-python",
   "name": "python",
   "nbconvert_exporter": "python",
   "pygments_lexer": "ipython2",
   "version": "2.7.13"
  }
 },
 "nbformat": 4,
 "nbformat_minor": 2
}
