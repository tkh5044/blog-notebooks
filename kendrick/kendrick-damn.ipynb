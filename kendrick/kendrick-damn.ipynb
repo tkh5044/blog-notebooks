{
 "cells": [
  {
   "cell_type": "code",
   "execution_count": 2,
   "metadata": {
    "collapsed": true
   },
   "outputs": [],
   "source": [
    "import requests\n",
    "from bs4 import BeautifulSoup"
   ]
  },
  {
   "cell_type": "code",
   "execution_count": 3,
   "metadata": {
    "collapsed": false
   },
   "outputs": [],
   "source": [
    "url = 'https://genius.com/Kendrick-lamar-you-aint-gotta-lie-momma-said-lyrics'\n",
    "html = requests.get(url)\n",
    "soup = BeautifulSoup(html.text, 'html.parser')"
   ]
  },
  {
   "cell_type": "code",
   "execution_count": 4,
   "metadata": {
    "collapsed": false
   },
   "outputs": [
    {
     "data": {
      "text/plain": [
       "u'[Produced by LoveDragon]\\n\\n[Intro]\\nStudy long, study wrong, nigga\\nHey, y\\'all close that front door, ya\\'ll let flies in this motherfucker\\nClose that door!\\nMy OG up in this motherfucker right now\\nMy pops man with the bottle of Hennessy in his hand, actin\\' a fool\\nHey, hey, babe check it out, Imma tell you what my mama had said, she like:\\n\\n[Verse 1]\\nI could spot you a mile away\\nI could see your insecurities written all on your face\\nSo predictable your words, I know what you gonna say\\nWho you foolin\\'? Oh, you assuming you can just come and hang\\nWith the homies but your level of realness ain\\'t the same\\nCircus acts only attract those that entertain\\nSmall talk, we know that it\\'s all talk\\nWe live in the Laugh Factory every time they mention your name\\n\\n[Bridge]\\nAskin\\' \"where the hoes at?\" to impress me\\nAskin\\' \"where the moneybags?\" to impress me\\nSay you got the burner stashed to impress me\\nIt\\'s all in your head, homie\\nAskin\\' \"where the plug at?\" to impress me\\nAskin\\' \"where the juug at?\" to impress me\\nAskin\\' \"where it\\'s at?\" only upsets me\\nYou sound like the feds, homie\\n\\n[Hook]\\nYou ain\\'t gotta lie to kick it, my nigga\\nYou ain\\'t gotta lie, you ain\\'t gotta lie\\nYou ain\\'t gotta lie to kick it, my nigga\\nYou ain\\'t gotta try so hard\\nYou ain\\'t gotta lie to kick it, my nigga\\nYou ain\\'t gotta lie, you ain\\'t gotta lie\\nYou ain\\'t gotta lie to kick it, my nigga\\nYou ain\\'t gotta try so hard\\n\\n[Verse 2]\\nAnd the world don\\'t respect you\\nAnd the culture don\\'t accept you\\nBut you think it\\'s all love\\nAnd the girls gon\\' neglect you once your parody is done\\nRepetition can\\'t protect you if you never had one\\nJealousy (complex), emotional (complex)\\nSelf-pity (complex), under oath (complex)\\nThe loudest one in the room, nigga, that\\'s a complex\\nLet me put it back in proper context\\n\\n[Hook]\\nYou ain\\'t gotta lie to kick it, my nigga\\nYou ain\\'t gotta lie, you ain\\'t gotta lie\\nYou ain\\'t gotta lie to kick it, my nigga\\nYou ain\\'t gotta try so hard\\nYou ain\\'t gotta lie to kick it, my nigga\\nYou ain\\'t gotta lie, you ain\\'t gotta lie\\nYou ain\\'t gotta lie to kick it, my nigga\\nYou ain\\'t gotta try so hard\\n\\n[Bridge]\\nAskin\\' \"where the hoes at?\" to impress me\\nAskin\\' \"where the moneybags?\" to impress me\\nSay you got the burner stashed to impress me\\nIt\\'s all in your head, homie\\nAskin\\' \"where the plug at?\" to impress me\\nAskin\\' \"where the juug at?\" to impress me\\nAskin\\' \"where it\\'s at?\" only upsets me\\nYou sound like the feds, homie\\n\\n(Pause)\\n\\n[Verse 3]\\nWhat do you got to offer?\\nTell me before we off ya, put you deep in the coffin\\nBeen allergic to talkin\\', been a virgin to bullshit\\nAnd sell a dream in the auction, tell me just who your boss is\\nNiggas be fugazi, bitches be fugazi\\nThis is for fugazi niggas and bitches who make habitual lyin\\' babies, bless them little hearts\\nYou can never persuade me\\nYou can never relate me to him, to her, or that to them\\nOr you, the truth you love to bend\\nIn the back, in the bed, on the floor, that\\'s your ho\\nOn the couch, in the mouth, I\\'ll be out, really though\\nSo loud, rich niggas got low money\\nAnd loud, broke niggas got no money\\nThe irony behind it is so funny\\nAnd I seen it all this past year\\nPass on some advice we feel:\\n\\n[Hook]\\nYou ain\\'t gotta lie to kick it, my nigga\\nYou ain\\'t gotta lie, you ain\\'t gotta lie\\nYou ain\\'t gotta lie to kick it, my nigga\\nYou ain\\'t gotta try so hard\\nYou ain\\'t gotta lie to kick it, my nigga\\nYou ain\\'t gotta lie, you ain\\'t gotta lie\\nYou ain\\'t gotta lie to kick it, my nigga\\nYou ain\\'t gotta try so hard'"
      ]
     },
     "execution_count": 4,
     "metadata": {},
     "output_type": "execute_result"
    }
   ],
   "source": [
    "soup.find('p').text"
   ]
  },
  {
   "cell_type": "code",
   "execution_count": 5,
   "metadata": {
    "collapsed": true
   },
   "outputs": [],
   "source": [
    "song_titles = [\n",
    "    'wesleys-theory',\n",
    "    'for-free-interlude',\n",
    "    'king-kunta',\n",
    "    'institutionalized',\n",
    "    'these-walls',\n",
    "    'u',\n",
    "    'alright',\n",
    "    'for-sale-interlude',\n",
    "    'momma',\n",
    "    'hood politics',\n",
    "    'how-much-a-dollar-cost',\n",
    "    'complexion-a-zulu-love',\n",
    "    'the-blacker-the-berry',\n",
    "    'you-aint-gotta-lie-momma-said',\n",
    "    'i',\n",
    "    'mortal-man'\n",
    "]"
   ]
  },
  {
   "cell_type": "code",
   "execution_count": 8,
   "metadata": {
    "collapsed": true
   },
   "outputs": [],
   "source": [
    "from time import sleep"
   ]
  },
  {
   "cell_type": "code",
   "execution_count": 9,
   "metadata": {
    "collapsed": false
   },
   "outputs": [],
   "source": [
    "butterfly = []\n",
    "for i in song_titles:\n",
    "    url = 'https://genius.com/Kendrick-lamar-' + i + '-lyrics'\n",
    "    html = requests.get(url)\n",
    "    soup = BeautifulSoup(html.text, 'html.parser')\n",
    "    butterfly.append(soup.find('p').text)\n",
    "    sleep(1)"
   ]
  },
  {
   "cell_type": "code",
   "execution_count": 11,
   "metadata": {
    "collapsed": false,
    "scrolled": false
   },
   "outputs": [
    {
     "data": {
      "text/plain": [
       "[u'[Produced by Sounwave; Additional production by Terrace Martin]',\n",
       " u'',\n",
       " u'[Intro]',\n",
       " u'I got a bone to pick',\n",
       " u\"I don't want you monkey-mouth motherfuckers\",\n",
       " u\"Sittin' in my throne again\",\n",
       " u\"Ayy, ayy, nigga what's happenin'?\",\n",
       " u'K-Dot back in the hood, nigga!',\n",
       " u\"I'm mad (He mad!), but I ain't stressin'\",\n",
       " u'True friends, one question',\n",
       " u'',\n",
       " u'[Hook]',\n",
       " u\"Bitch, where you when I was walkin'?\",\n",
       " u\"Now I run the game, got the whole world talkin'\",\n",
       " u'King Kunta',\n",
       " u'Everybody wanna cut the legs off him',\n",
       " u'(King) Kunta',\n",
       " u'Black man taking no losses, oh yeah',\n",
       " u\"Bitch, where you when I was walkin'?\",\n",
       " u\"Now I run the game, got the whole world talkin'\",\n",
       " u'King Kunta',\n",
       " u'Everybody wanna cut the legs off him',\n",
       " u\"When you got the yams\\u2014(What's the yams?)\",\n",
       " u'',\n",
       " u'[Verse 1]',\n",
       " u'The yam is the power that be',\n",
       " u\"You can smell it when I'm walkin' down the street\",\n",
       " u'(Oh yes, we can, oh yes, we can)',\n",
       " u\"I can dig rappin', but a rapper with a ghost writer?\",\n",
       " u'What the fuck happened? (Oh no!)',\n",
       " u\"I swore I wouldn't tell, but most of y'all sharing bars\",\n",
       " u'Like you got the bottom bunk in a two-man cell',\n",
       " u'(A two man cell)',\n",
       " u\"Something's in the water (something's in the water)\",\n",
       " u'And if I gotta brown-nose for some gold',\n",
       " u\"Then I'd rather be a bum than a motherfuckin' baller\",\n",
       " u'',\n",
       " u'[Hook]',\n",
       " u\"Bitch, where you when I was walkin'?\",\n",
       " u\"Now I run the game, got the whole world talkin'\",\n",
       " u'King Kunta',\n",
       " u'Everybody wanna cut the legs off him',\n",
       " u'(King) Kunta',\n",
       " u'Black man taking no losses, oh yeah',\n",
       " u\"Bitch, where you when I was walkin'?\",\n",
       " u\"Now I run the game, got the whole world talkin'\",\n",
       " u'King Kunta',\n",
       " u'Everybody wanna cut the legs off him',\n",
       " u\"When you got the yams\\u2014(What's the yams?)\",\n",
       " u'',\n",
       " u'[Verse 2]',\n",
       " u'The yam brought it out of Richard Pryor',\n",
       " u'Manipulated Bill Clinton with desires',\n",
       " u'24/7, 365 days times two',\n",
       " u\"I was contemplatin' gettin' on stage\",\n",
       " u'Just to go back to the hood, see my enemy, and say\\u2026 (oh yeah)',\n",
       " u'',\n",
       " u'[Hook]',\n",
       " u\"Bitch, where you when I was walkin'?\",\n",
       " u\"Now I run the game, got the whole world talkin'\",\n",
       " u'King Kunta',\n",
       " u'Everybody wanna cut the legs off him',\n",
       " u'(King) Kunta',\n",
       " u'Black man taking no losses, oh yeah',\n",
       " u\"Bitch, where you when I was walkin'?\",\n",
       " u\"Now I run the game, got the whole world talkin'\",\n",
       " u'King Kunta',\n",
       " u'Everybody wanna cut the legs off him',\n",
       " u'',\n",
       " u'',\n",
       " u'[Verse 3]',\n",
       " u'You goat-mouth mammyfucker',\n",
       " u'I was gonna kill a couple rappers, but they did it to themselves',\n",
       " u\"Everybody's suicidal, they ain't even need my help\",\n",
       " u\"This shit is elementary, I'll probably go to jail\",\n",
       " u'If I shoot at your identity and bounce to the left',\n",
       " u'Stuck a flag in my city, everybody\\'s screamin\\' \"Compton!\"',\n",
       " u\"I should probably run for mayor when I'm done, to be honest\",\n",
       " u'And I put that on my mama and my baby boo too',\n",
       " u\"Twenty million walkin' out the court buildin', woo woo!\",\n",
       " u'Ah yeah, fuck the judge, I made it past 25, and there I was',\n",
       " u'A little nappy-headed nigga with the world behind him',\n",
       " u\"Life ain't shit but a fat vagina\",\n",
       " u'Screamin\\' \"Annie, are you okay? Annie, are you okay?\"',\n",
       " u'Limo tinted with the gold plates',\n",
       " u'Straight from the bottom, this the belly of the beast',\n",
       " u\"From a peasant to a prince to a motherfuckin' king\",\n",
       " u'',\n",
       " u'[Hook]',\n",
       " u\"Bitch, where was you when I was walkin'\\u2014(*POP*)\",\n",
       " u'By the time you hear the next pop',\n",
       " u'The funk shall be within you\\u2014(*POP*)',\n",
       " u\"Now I run the game, got the whole world talkin'\",\n",
       " u'King Kunta',\n",
       " u'Everybody wanna cut the legs off him',\n",
       " u'(King) Kunta',\n",
       " u'Black man taking no losses, oh yeah',\n",
       " u\"Bitch, where was you when I was walkin'?\",\n",
       " u\"Now I run the game, got the whole world talkin'\",\n",
       " u'King Kunta',\n",
       " u'Everybody wanna cut the legs off him',\n",
       " u'',\n",
       " u'[Outro]',\n",
       " u'(Funk, funk, funk, funk, funk, funk)',\n",
       " u'We want the funk',\n",
       " u'We want the funk',\n",
       " u\"(Now if I give you the funk, you gon' take it)\",\n",
       " u'We want the funk',\n",
       " u\"(Now if I give you the funk, you gon' take it)\",\n",
       " u'We want the funk',\n",
       " u\"(Now if I give you the funk, you gon' take it)\",\n",
       " u'We want the funk',\n",
       " u'(Do you want the funk?)',\n",
       " u'We want the funk',\n",
       " u'(Do you want the funk?)',\n",
       " u'We want the funk',\n",
       " u\"(Now if I give you the funk, you gon' take it)\",\n",
       " u'We want the funk',\n",
       " u'',\n",
       " u'[Poem]',\n",
       " u'I remember you was conflicted, misusing your influence']"
      ]
     },
     "execution_count": 11,
     "metadata": {},
     "output_type": "execute_result"
    }
   ],
   "source": [
    "butterfly[2].split('\\n')"
   ]
  },
  {
   "cell_type": "code",
   "execution_count": 12,
   "metadata": {
    "collapsed": true
   },
   "outputs": [],
   "source": [
    "import re"
   ]
  },
  {
   "cell_type": "code",
   "execution_count": null,
   "metadata": {
    "collapsed": true
   },
   "outputs": [],
   "source": []
  }
 ],
 "metadata": {
  "kernelspec": {
   "display_name": "Python 2",
   "language": "python",
   "name": "python2"
  },
  "language_info": {
   "codemirror_mode": {
    "name": "ipython",
    "version": 2
   },
   "file_extension": ".py",
   "mimetype": "text/x-python",
   "name": "python",
   "nbconvert_exporter": "python",
   "pygments_lexer": "ipython2",
   "version": "2.7.13"
  }
 },
 "nbformat": 4,
 "nbformat_minor": 2
}
